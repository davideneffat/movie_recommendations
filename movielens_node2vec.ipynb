{
  "cells": [
    {
      "cell_type": "markdown",
      "metadata": {
        "colab_type": "text",
        "id": "view-in-github"
      },
      "source": [
        "<a href=\"https://colab.research.google.com/github/davideneffat/movie_recommendations/blob/main/movielens_node2vec.ipynb\" target=\"_parent\"><img src=\"https://colab.research.google.com/assets/colab-badge.svg\" alt=\"Open In Colab\"/></a>"
      ]
    },
    {
      "cell_type": "code",
      "execution_count": 1,
      "metadata": {
        "id": "P0Jz1MMSF1q4"
      },
      "outputs": [
        {
          "name": "stdout",
          "output_type": "stream",
          "text": [
            "WARNING:tensorflow:From c:\\Users\\matte\\AppData\\Local\\Programs\\Python\\Python310\\lib\\site-packages\\keras\\src\\losses.py:2976: The name tf.losses.sparse_softmax_cross_entropy is deprecated. Please use tf.compat.v1.losses.sparse_softmax_cross_entropy instead.\n",
            "\n"
          ]
        }
      ],
      "source": [
        "import os\n",
        "from collections import defaultdict\n",
        "import math\n",
        "import networkx as nx\n",
        "import random\n",
        "from tqdm import tqdm\n",
        "from zipfile import ZipFile\n",
        "from urllib.request import urlretrieve\n",
        "import numpy as np\n",
        "import pandas as pd\n",
        "import tensorflow as tf\n",
        "from tensorflow import keras\n",
        "from tensorflow.keras import layers\n",
        "import matplotlib.pyplot as plt"
      ]
    },
    {
      "cell_type": "code",
      "execution_count": 2,
      "metadata": {
        "id": "HMv9GytZF8Ve"
      },
      "outputs": [
        {
          "data": {
            "text/plain": [
              "'\\nurlretrieve( \"http://files.grouplens.org/datasets/movielens/ml-20m.zip\", \"movielens.zip\")  #20m dataset\\n#urlretrieve( \"http://files.grouplens.org/datasets/movielens/ml-latest-small.zip\", \"movielens.zip\")  #100k dataset\\nZipFile(\"movielens.zip\", \"r\").extractall()\\n'"
            ]
          },
          "execution_count": 2,
          "metadata": {},
          "output_type": "execute_result"
        }
      ],
      "source": [
        "#download dataset\n",
        "\"\"\"\n",
        "urlretrieve( \"http://files.grouplens.org/datasets/movielens/ml-20m.zip\", \"movielens.zip\")  #20m dataset\n",
        "#urlretrieve( \"http://files.grouplens.org/datasets/movielens/ml-latest-small.zip\", \"movielens.zip\")  #100k dataset\n",
        "ZipFile(\"movielens.zip\", \"r\").extractall()\n",
        "\"\"\""
      ]
    },
    {
      "cell_type": "code",
      "execution_count": 3,
      "metadata": {
        "colab": {
          "base_uri": "https://localhost:8080/"
        },
        "id": "uqTUNs8GGhEM",
        "outputId": "6b5b1bd1-1045-41f1-ad27-a0b159a39d64"
      },
      "outputs": [
        {
          "name": "stdout",
          "output_type": "stream",
          "text": [
            "Movies data shape: (27278, 3)\n",
            "Ratings data shape: (20000263, 4)\n"
          ]
        }
      ],
      "source": [
        "movies = pd.read_csv(\"ml-20m/movies.csv\")###############################################\n",
        "#movies = pd.read_csv(\"ml-latest-small/movies.csv\")\n",
        "# Create a `movieId` string.\n",
        "movies[\"movieId\"] = movies[\"movieId\"].apply(lambda x: f\"movie_{x}\")  #create id column as movie_x\n",
        "\n",
        "ratings = pd.read_csv(\"ml-20m/ratings.csv\")###############################################\n",
        "#ratings = pd.read_csv(\"ml-latest-small/ratings.csv\")\n",
        "# Convert the `ratings` to floating point\n",
        "ratings[\"rating\"] = ratings[\"rating\"].apply(lambda x: float(x))\n",
        "# Create the `movie_id` string.\n",
        "ratings[\"movieId\"] = ratings[\"movieId\"].apply(lambda x: f\"movie_{x}\")  #create id column as movie_x\n",
        "\n",
        "print(\"Movies data shape:\", movies.shape)\n",
        "print(\"Ratings data shape:\", ratings.shape)"
      ]
    },
    {
      "cell_type": "code",
      "execution_count": 4,
      "metadata": {
        "colab": {
          "base_uri": "https://localhost:8080/",
          "height": 206
        },
        "id": "fKxfoDJOGx5e",
        "outputId": "5cb9a169-bfca-40bb-a53f-3eb6ccc2da26"
      },
      "outputs": [
        {
          "data": {
            "text/html": [
              "<div>\n",
              "<style scoped>\n",
              "    .dataframe tbody tr th:only-of-type {\n",
              "        vertical-align: middle;\n",
              "    }\n",
              "\n",
              "    .dataframe tbody tr th {\n",
              "        vertical-align: top;\n",
              "    }\n",
              "\n",
              "    .dataframe thead th {\n",
              "        text-align: right;\n",
              "    }\n",
              "</style>\n",
              "<table border=\"1\" class=\"dataframe\">\n",
              "  <thead>\n",
              "    <tr style=\"text-align: right;\">\n",
              "      <th></th>\n",
              "      <th>userId</th>\n",
              "      <th>movieId</th>\n",
              "      <th>rating</th>\n",
              "      <th>timestamp</th>\n",
              "    </tr>\n",
              "  </thead>\n",
              "  <tbody>\n",
              "    <tr>\n",
              "      <th>0</th>\n",
              "      <td>1</td>\n",
              "      <td>movie_2</td>\n",
              "      <td>3.5</td>\n",
              "      <td>1112486027</td>\n",
              "    </tr>\n",
              "    <tr>\n",
              "      <th>1</th>\n",
              "      <td>1</td>\n",
              "      <td>movie_29</td>\n",
              "      <td>3.5</td>\n",
              "      <td>1112484676</td>\n",
              "    </tr>\n",
              "    <tr>\n",
              "      <th>2</th>\n",
              "      <td>1</td>\n",
              "      <td>movie_32</td>\n",
              "      <td>3.5</td>\n",
              "      <td>1112484819</td>\n",
              "    </tr>\n",
              "    <tr>\n",
              "      <th>3</th>\n",
              "      <td>1</td>\n",
              "      <td>movie_47</td>\n",
              "      <td>3.5</td>\n",
              "      <td>1112484727</td>\n",
              "    </tr>\n",
              "    <tr>\n",
              "      <th>4</th>\n",
              "      <td>1</td>\n",
              "      <td>movie_50</td>\n",
              "      <td>3.5</td>\n",
              "      <td>1112484580</td>\n",
              "    </tr>\n",
              "  </tbody>\n",
              "</table>\n",
              "</div>"
            ],
            "text/plain": [
              "   userId   movieId  rating   timestamp\n",
              "0       1   movie_2     3.5  1112486027\n",
              "1       1  movie_29     3.5  1112484676\n",
              "2       1  movie_32     3.5  1112484819\n",
              "3       1  movie_47     3.5  1112484727\n",
              "4       1  movie_50     3.5  1112484580"
            ]
          },
          "execution_count": 4,
          "metadata": {},
          "output_type": "execute_result"
        }
      ],
      "source": [
        "ratings.head()"
      ]
    },
    {
      "cell_type": "code",
      "execution_count": 5,
      "metadata": {
        "colab": {
          "base_uri": "https://localhost:8080/",
          "height": 423
        },
        "id": "0uI2ntVHG8vq",
        "outputId": "0db9b3de-89a7-4367-a0df-7b8ba4de1738"
      },
      "outputs": [
        {
          "data": {
            "text/html": [
              "<div>\n",
              "<style scoped>\n",
              "    .dataframe tbody tr th:only-of-type {\n",
              "        vertical-align: middle;\n",
              "    }\n",
              "\n",
              "    .dataframe tbody tr th {\n",
              "        vertical-align: top;\n",
              "    }\n",
              "\n",
              "    .dataframe thead th {\n",
              "        text-align: right;\n",
              "    }\n",
              "</style>\n",
              "<table border=\"1\" class=\"dataframe\">\n",
              "  <thead>\n",
              "    <tr style=\"text-align: right;\">\n",
              "      <th></th>\n",
              "      <th>movieId</th>\n",
              "      <th>title</th>\n",
              "      <th>genres</th>\n",
              "    </tr>\n",
              "  </thead>\n",
              "  <tbody>\n",
              "    <tr>\n",
              "      <th>0</th>\n",
              "      <td>movie_1</td>\n",
              "      <td>Toy Story (1995)</td>\n",
              "      <td>Adventure|Animation|Children|Comedy|Fantasy</td>\n",
              "    </tr>\n",
              "    <tr>\n",
              "      <th>1</th>\n",
              "      <td>movie_2</td>\n",
              "      <td>Jumanji (1995)</td>\n",
              "      <td>Adventure|Children|Fantasy</td>\n",
              "    </tr>\n",
              "    <tr>\n",
              "      <th>2</th>\n",
              "      <td>movie_3</td>\n",
              "      <td>Grumpier Old Men (1995)</td>\n",
              "      <td>Comedy|Romance</td>\n",
              "    </tr>\n",
              "    <tr>\n",
              "      <th>3</th>\n",
              "      <td>movie_4</td>\n",
              "      <td>Waiting to Exhale (1995)</td>\n",
              "      <td>Comedy|Drama|Romance</td>\n",
              "    </tr>\n",
              "    <tr>\n",
              "      <th>4</th>\n",
              "      <td>movie_5</td>\n",
              "      <td>Father of the Bride Part II (1995)</td>\n",
              "      <td>Comedy</td>\n",
              "    </tr>\n",
              "    <tr>\n",
              "      <th>...</th>\n",
              "      <td>...</td>\n",
              "      <td>...</td>\n",
              "      <td>...</td>\n",
              "    </tr>\n",
              "    <tr>\n",
              "      <th>27273</th>\n",
              "      <td>movie_131254</td>\n",
              "      <td>Kein Bund für's Leben (2007)</td>\n",
              "      <td>Comedy</td>\n",
              "    </tr>\n",
              "    <tr>\n",
              "      <th>27274</th>\n",
              "      <td>movie_131256</td>\n",
              "      <td>Feuer, Eis &amp; Dosenbier (2002)</td>\n",
              "      <td>Comedy</td>\n",
              "    </tr>\n",
              "    <tr>\n",
              "      <th>27275</th>\n",
              "      <td>movie_131258</td>\n",
              "      <td>The Pirates (2014)</td>\n",
              "      <td>Adventure</td>\n",
              "    </tr>\n",
              "    <tr>\n",
              "      <th>27276</th>\n",
              "      <td>movie_131260</td>\n",
              "      <td>Rentun Ruusu (2001)</td>\n",
              "      <td>(no genres listed)</td>\n",
              "    </tr>\n",
              "    <tr>\n",
              "      <th>27277</th>\n",
              "      <td>movie_131262</td>\n",
              "      <td>Innocence (2014)</td>\n",
              "      <td>Adventure|Fantasy|Horror</td>\n",
              "    </tr>\n",
              "  </tbody>\n",
              "</table>\n",
              "<p>27278 rows × 3 columns</p>\n",
              "</div>"
            ],
            "text/plain": [
              "            movieId                               title  \\\n",
              "0           movie_1                    Toy Story (1995)   \n",
              "1           movie_2                      Jumanji (1995)   \n",
              "2           movie_3             Grumpier Old Men (1995)   \n",
              "3           movie_4            Waiting to Exhale (1995)   \n",
              "4           movie_5  Father of the Bride Part II (1995)   \n",
              "...             ...                                 ...   \n",
              "27273  movie_131254        Kein Bund für's Leben (2007)   \n",
              "27274  movie_131256       Feuer, Eis & Dosenbier (2002)   \n",
              "27275  movie_131258                  The Pirates (2014)   \n",
              "27276  movie_131260                 Rentun Ruusu (2001)   \n",
              "27277  movie_131262                    Innocence (2014)   \n",
              "\n",
              "                                            genres  \n",
              "0      Adventure|Animation|Children|Comedy|Fantasy  \n",
              "1                       Adventure|Children|Fantasy  \n",
              "2                                   Comedy|Romance  \n",
              "3                             Comedy|Drama|Romance  \n",
              "4                                           Comedy  \n",
              "...                                            ...  \n",
              "27273                                       Comedy  \n",
              "27274                                       Comedy  \n",
              "27275                                    Adventure  \n",
              "27276                           (no genres listed)  \n",
              "27277                     Adventure|Fantasy|Horror  \n",
              "\n",
              "[27278 rows x 3 columns]"
            ]
          },
          "execution_count": 5,
          "metadata": {},
          "output_type": "execute_result"
        }
      ],
      "source": [
        "movies"
      ]
    },
    {
      "cell_type": "code",
      "execution_count": 6,
      "metadata": {
        "colab": {
          "base_uri": "https://localhost:8080/",
          "height": 206
        },
        "id": "Ey-9JOeJGu20",
        "outputId": "fdf013f0-10f8-426c-c346-4adee039d4eb"
      },
      "outputs": [
        {
          "data": {
            "text/html": [
              "<div>\n",
              "<style scoped>\n",
              "    .dataframe tbody tr th:only-of-type {\n",
              "        vertical-align: middle;\n",
              "    }\n",
              "\n",
              "    .dataframe tbody tr th {\n",
              "        vertical-align: top;\n",
              "    }\n",
              "\n",
              "    .dataframe thead th {\n",
              "        text-align: right;\n",
              "    }\n",
              "</style>\n",
              "<table border=\"1\" class=\"dataframe\">\n",
              "  <thead>\n",
              "    <tr style=\"text-align: right;\">\n",
              "      <th></th>\n",
              "      <th>userId</th>\n",
              "      <th>movieId</th>\n",
              "      <th>rating</th>\n",
              "      <th>timestamp</th>\n",
              "      <th>title</th>\n",
              "      <th>genres</th>\n",
              "    </tr>\n",
              "  </thead>\n",
              "  <tbody>\n",
              "    <tr>\n",
              "      <th>0</th>\n",
              "      <td>1</td>\n",
              "      <td>movie_2</td>\n",
              "      <td>3.5</td>\n",
              "      <td>1112486027</td>\n",
              "      <td>Jumanji (1995)</td>\n",
              "      <td>Adventure|Children|Fantasy</td>\n",
              "    </tr>\n",
              "    <tr>\n",
              "      <th>1</th>\n",
              "      <td>1</td>\n",
              "      <td>movie_29</td>\n",
              "      <td>3.5</td>\n",
              "      <td>1112484676</td>\n",
              "      <td>City of Lost Children, The (Cité des enfants p...</td>\n",
              "      <td>Adventure|Drama|Fantasy|Mystery|Sci-Fi</td>\n",
              "    </tr>\n",
              "    <tr>\n",
              "      <th>2</th>\n",
              "      <td>1</td>\n",
              "      <td>movie_32</td>\n",
              "      <td>3.5</td>\n",
              "      <td>1112484819</td>\n",
              "      <td>Twelve Monkeys (a.k.a. 12 Monkeys) (1995)</td>\n",
              "      <td>Mystery|Sci-Fi|Thriller</td>\n",
              "    </tr>\n",
              "    <tr>\n",
              "      <th>3</th>\n",
              "      <td>1</td>\n",
              "      <td>movie_47</td>\n",
              "      <td>3.5</td>\n",
              "      <td>1112484727</td>\n",
              "      <td>Seven (a.k.a. Se7en) (1995)</td>\n",
              "      <td>Mystery|Thriller</td>\n",
              "    </tr>\n",
              "    <tr>\n",
              "      <th>4</th>\n",
              "      <td>1</td>\n",
              "      <td>movie_50</td>\n",
              "      <td>3.5</td>\n",
              "      <td>1112484580</td>\n",
              "      <td>Usual Suspects, The (1995)</td>\n",
              "      <td>Crime|Mystery|Thriller</td>\n",
              "    </tr>\n",
              "  </tbody>\n",
              "</table>\n",
              "</div>"
            ],
            "text/plain": [
              "   userId   movieId  rating   timestamp  \\\n",
              "0       1   movie_2     3.5  1112486027   \n",
              "1       1  movie_29     3.5  1112484676   \n",
              "2       1  movie_32     3.5  1112484819   \n",
              "3       1  movie_47     3.5  1112484727   \n",
              "4       1  movie_50     3.5  1112484580   \n",
              "\n",
              "                                               title  \\\n",
              "0                                     Jumanji (1995)   \n",
              "1  City of Lost Children, The (Cité des enfants p...   \n",
              "2          Twelve Monkeys (a.k.a. 12 Monkeys) (1995)   \n",
              "3                        Seven (a.k.a. Se7en) (1995)   \n",
              "4                         Usual Suspects, The (1995)   \n",
              "\n",
              "                                   genres  \n",
              "0              Adventure|Children|Fantasy  \n",
              "1  Adventure|Drama|Fantasy|Mystery|Sci-Fi  \n",
              "2                 Mystery|Sci-Fi|Thriller  \n",
              "3                        Mystery|Thriller  \n",
              "4                  Crime|Mystery|Thriller  "
            ]
          },
          "execution_count": 6,
          "metadata": {},
          "output_type": "execute_result"
        }
      ],
      "source": [
        "merged = pd.merge(ratings, movies, on='movieId', how='left')\n",
        "merged.head()"
      ]
    },
    {
      "cell_type": "code",
      "execution_count": 7,
      "metadata": {
        "colab": {
          "base_uri": "https://localhost:8080/",
          "height": 593
        },
        "id": "PrECZIBFINRL",
        "outputId": "37e64b70-b90e-455c-e4f1-1470a6bb649b"
      },
      "outputs": [
        {
          "name": "stderr",
          "output_type": "stream",
          "text": [
            "C:\\Users\\matte\\AppData\\Local\\Temp\\ipykernel_3020\\2276630550.py:6: UserWarning: set_ticklabels() should only be used with a fixed number of ticks, i.e. after set_ticks() or using a FixedLocator.\n",
            "  ax.set_yticklabels(['{:,.0%}'.format(x) for x in vals])\n"
          ]
        },
        {
          "data": {
            "image/png": "[encoded data removed]",
            "text/plain": [
              "<Figure size 800x600 with 1 Axes>"
            ]
          },
          "metadata": {},
          "output_type": "display_data"
        }
      ],
      "source": [
        "from matplotlib import pyplot as plt\n",
        "\n",
        "fig = plt.figure()\n",
        "ax = ratings.rating.value_counts(True).sort_index().plot.bar(figsize=(8,6))\n",
        "vals = ax.get_yticks()\n",
        "ax.set_yticklabels(['{:,.0%}'.format(x) for x in vals])\n",
        "plt.xlabel('Rating', fontsize=12)\n",
        "plt.ylabel('Share of Ratings', fontsize=12)\n",
        "plt.xticks(fontsize=12)\n",
        "plt.yticks(fontsize=12)\n",
        "fig.savefig('Ratings_distribution.png')"
      ]
    },
    {
      "cell_type": "code",
      "execution_count": 8,
      "metadata": {
        "id": "EpArMht5G9Qf"
      },
      "outputs": [],
      "source": [
        "def get_movie_title_by_id(movieId):\n",
        "    return list(movies[movies.movieId == movieId].title)[0]\n",
        "\n",
        "\n",
        "def get_movie_id_by_title(title):\n",
        "    return list(movies[movies.title == title].movieId)[0]"
      ]
    },
    {
      "cell_type": "code",
      "execution_count": 9,
      "metadata": {
        "colab": {
          "base_uri": "https://localhost:8080/"
        },
        "id": "AIh3pbT_HJ71",
        "outputId": "de6313ce-11bd-4e11-d55e-ccd0acbd72bd"
      },
      "outputs": [
        {
          "name": "stdout",
          "output_type": "stream",
          "text": [
            "[(1,      userId      movieId  rating   timestamp\n",
            "6         1    movie_151     4.0  1094785734\n",
            "7         1    movie_223     4.0  1112485573\n",
            "8         1    movie_253     4.0  1112484940\n",
            "9         1    movie_260     4.0  1112484826\n",
            "10        1    movie_293     4.0  1112484703\n",
            "..      ...          ...     ...         ...\n",
            "168       1   movie_8368     4.0  1112485688\n",
            "170       1   movie_8507     5.0  1094786027\n",
            "171       1   movie_8636     4.5  1112485493\n",
            "173       1   movie_8961     4.0  1112485629\n",
            "174       1  movie_31696     4.0  1112485748\n",
            "\n",
            "[88 rows x 4 columns])]\n",
            "138287\n"
          ]
        },
        {
          "name": "stderr",
          "output_type": "stream",
          "text": [
            "Compute movie rating frequencies: 100%|██████████| 138287/138287 [19:03<00:00, 120.91it/s]\n"
          ]
        }
      ],
      "source": [
        "min_rating = 4  #we only consider ratings grater than min_rating\n",
        "pair_frequency = defaultdict(int)\n",
        "item_frequency = defaultdict(int)\n",
        "\n",
        "rated_movies = ratings[ratings.rating >= min_rating]# Filter ratings\n",
        "#print(rated_movies.head())\n",
        "\n",
        "movies_grouped_by_users = list(rated_movies.groupby(\"userId\")) #group instances by user.\n",
        "print(movies_grouped_by_users[:1])\n",
        "print(len(movies_grouped_by_users))\n",
        "\n",
        "for group in tqdm(\n",
        "    movies_grouped_by_users,\n",
        "    position=0,\n",
        "    leave=True,\n",
        "    desc=\"Compute movie rating frequencies\",\n",
        "):\n",
        "    # Get a list of movies rated by the user.\n",
        "    current_movies = list(group[1][\"movieId\"])\n",
        "\n",
        "    for i in range(len(current_movies)):\n",
        "        item_frequency[current_movies[i]] += 1 #update single movie frequency\n",
        "        for j in range(i + 1, len(current_movies)):\n",
        "            x = min(current_movies[i], current_movies[j]) #x and y to count only one time (a,b) and (b,a)\n",
        "            y = max(current_movies[i], current_movies[j])\n",
        "            pair_frequency[(x, y)] += 1 #update pair of movies frequency\n",
        "#print(len(pair_frequency))"
      ]
    },
    {
      "cell_type": "code",
      "execution_count": 10,
      "metadata": {
        "colab": {
          "base_uri": "https://localhost:8080/"
        },
        "id": "CL63d3XEImJ6",
        "outputId": "834ea1b0-0613-4ec5-a326-f20394759e1c"
      },
      "outputs": [
        {
          "name": "stderr",
          "output_type": "stream",
          "text": [
            "Creating the movie graph: 100%|██████████| 48976614/48976614 [00:46<00:00, 1054238.25it/s]\n"
          ]
        }
      ],
      "source": [
        "#create our grapg\n",
        "min_weight = 0.5\n",
        "\n",
        "movies_graph = nx.Graph() #undirected\n",
        "# let's add weighted edges between movies.\n",
        "for pair in tqdm(\n",
        "    pair_frequency, position=0, leave=True, desc=\"Creating the movie graph\"\n",
        "):\n",
        "    #let's compute intersection over union\n",
        "    x, y = pair #pair of movies\n",
        "    xy_intersection = pair_frequency[pair] #intersection of x and y: users who saw both movies and reviewed them >= 4\n",
        "    x_frequency = item_frequency[x] #users that saw movie x\n",
        "    y_frequency = item_frequency[y] #users that saw movie y\n",
        "    IoU = xy_intersection / (x_frequency + y_frequency)\n",
        "    weight = IoU * xy_intersection #to not have value too small\n",
        "    # Only include edges with weight >= min_weight.\n",
        "    if weight >= min_weight:\n",
        "        movies_graph.add_edge(x, y, weight=weight)"
      ]
    },
    {
      "cell_type": "code",
      "execution_count": 11,
      "metadata": {
        "id": "-uyYhJWOIruW"
      },
      "outputs": [
        {
          "name": "stdout",
          "output_type": "stream",
          "text": [
            "Actual number of graph nodes: 13268\n",
            "Actual number of graph edges: 4048942\n",
            "Previous number of movies: 27278\n",
            "Previous number of ratings: 20000263\n"
          ]
        }
      ],
      "source": [
        "print(\"Actual number of graph nodes:\", movies_graph.number_of_nodes())\n",
        "print(\"Actual number of graph edges:\", movies_graph.number_of_edges())\n",
        "print(\"Previous number of movies:\", len(movies))\n",
        "print(\"Previous number of ratings:\", len(ratings))"
      ]
    },
    {
      "cell_type": "code",
      "execution_count": 12,
      "metadata": {
        "id": "GStN-zmQI2pg"
      },
      "outputs": [
        {
          "name": "stdout",
          "output_type": "stream",
          "text": [
            "Average node degree: 610.33\n"
          ]
        }
      ],
      "source": [
        "degrees = []\n",
        "for node in movies_graph.nodes:\n",
        "    degrees.append(movies_graph.degree[node])\n",
        "\n",
        "print(\"Average node degree:\", round(sum(degrees) / len(degrees), 2))"
      ]
    },
    {
      "cell_type": "code",
      "execution_count": 41,
      "metadata": {
        "id": "k4TYSKPaI7k6"
      },
      "outputs": [],
      "source": [
        "vocabulary = [\"NA\"] + list(movies_graph.nodes) #the vocabulary is the nodes (movie IDs) in the graph\n",
        "#print(vocabulary)\n",
        "# Create a mapping from tokens to integer indices\n",
        "vocabulary_lookup = {token: idx for idx, token in enumerate(vocabulary)}\n",
        "#print(vocabulary_lookup)\n",
        "#dictionary where the keys are the movie IDs (nodes), and the values are the corresponding integer indices in the vocabulary list"
      ]
    },
    {
      "cell_type": "code",
      "execution_count": 14,
      "metadata": {
        "id": "l69_1TUSI9gC"
      },
      "outputs": [],
      "source": [
        "#code to compute random walk\n",
        "def next_step(graph, previous, current, p, q):\n",
        "    neighbors = list(graph.neighbors(current))\n",
        "\n",
        "    weights = []\n",
        "    # Adjust the weights of the edges to the neighbors with respect to p and q.\n",
        "    for neighbor in neighbors:\n",
        "        if neighbor == previous:\n",
        "            # Control the probability to return to the previous node.\n",
        "            weights.append(graph[current][neighbor][\"weight\"] / p)\n",
        "        elif graph.has_edge(neighbor, previous):\n",
        "            # The probability of visiting a local node.\n",
        "            weights.append(graph[current][neighbor][\"weight\"])\n",
        "        else:\n",
        "            # Control the probability to move forward.\n",
        "            weights.append(graph[current][neighbor][\"weight\"] / q)\n",
        "\n",
        "    # Compute the probabilities of visiting each neighbor.\n",
        "    weight_sum = sum(weights)\n",
        "    probabilities = [weight / weight_sum for weight in weights]\n",
        "    # Probabilistically select a neighbor to visit.\n",
        "    next = np.random.choice(neighbors, size=1, p=probabilities)[0]\n",
        "    return next\n",
        "\n",
        "\n",
        "def random_walk(graph, num_walks, num_steps, p, q):\n",
        "    walks = []\n",
        "    nodes = list(graph.nodes())\n",
        "    # Perform multiple iterations of the random walk.\n",
        "    for walk_iteration in range(num_walks):\n",
        "        random.shuffle(nodes)\n",
        "\n",
        "        for node in tqdm(\n",
        "            nodes,\n",
        "            position=0,\n",
        "            leave=True,\n",
        "            desc=f\"Random walks iteration {walk_iteration + 1} of {num_walks}\",\n",
        "        ):\n",
        "            # Start the walk with a random node from the graph.\n",
        "            walk = [node]\n",
        "            # Randomly walk for num_steps.\n",
        "            while len(walk) < num_steps:\n",
        "                current = walk[-1]\n",
        "                previous = walk[-2] if len(walk) > 1 else None\n",
        "                # Compute the next node to visit.\n",
        "                next = next_step(graph, previous, current, p, q)\n",
        "                walk.append(next)\n",
        "            # Replace node ids (movie ids) in the walk with token ids.\n",
        "            walk = [vocabulary_lookup[token] for token in walk]\n",
        "            # Add the walk to the generated sequence.\n",
        "            walks.append(walk)\n",
        "\n",
        "    return walks"
      ]
    },
    {
      "cell_type": "code",
      "execution_count": 15,
      "metadata": {
        "id": "BwRk1kiXJWg9"
      },
      "outputs": [
        {
          "name": "stderr",
          "output_type": "stream",
          "text": [
            "Random walks iteration 1 of 7: 100%|██████████| 13268/13268 [05:11<00:00, 42.64it/s]\n",
            "Random walks iteration 2 of 7: 100%|██████████| 13268/13268 [05:12<00:00, 42.47it/s]\n",
            "Random walks iteration 3 of 7: 100%|██████████| 13268/13268 [05:12<00:00, 42.49it/s]\n",
            "Random walks iteration 4 of 7: 100%|██████████| 13268/13268 [05:15<00:00, 41.99it/s]\n",
            "Random walks iteration 5 of 7: 100%|██████████| 13268/13268 [05:14<00:00, 42.19it/s]\n",
            "Random walks iteration 6 of 7: 100%|██████████| 13268/13268 [05:14<00:00, 42.21it/s]\n",
            "Random walks iteration 7 of 7: 100%|██████████| 13268/13268 [05:15<00:00, 42.02it/s]"
          ]
        },
        {
          "name": "stdout",
          "output_type": "stream",
          "text": [
            "Number of walks generated: 92876\n"
          ]
        },
        {
          "name": "stderr",
          "output_type": "stream",
          "text": [
            "\n"
          ]
        }
      ],
      "source": [
        "# Number of iterations of random walks.\n",
        "num_walks = 7\n",
        "# Number of steps of each random walk.\n",
        "num_steps = 10\n",
        "walks = random_walk(movies_graph, num_walks, num_steps, 1, 1)\n",
        "\n",
        "print(\"Number of walks generated:\", len(walks))"
      ]
    },
    {
      "cell_type": "code",
      "execution_count": 16,
      "metadata": {
        "id": "q-t4rrreJy-H"
      },
      "outputs": [
        {
          "name": "stderr",
          "output_type": "stream",
          "text": [
            "Generating postive and negative examples: 100%|██████████| 92876/92876 [01:46<00:00, 872.96it/s] \n"
          ]
        }
      ],
      "source": [
        "#let's generate training examples for the skip-gram model\n",
        "def generate_examples(sequences, window_size, num_negative_samples, vocabulary_size):\n",
        "    example_weights = defaultdict(int)\n",
        "    # Iterate over all sequences (walks).\n",
        "    for sequence in tqdm(\n",
        "        sequences,\n",
        "        position=0,\n",
        "        leave=True,\n",
        "        desc=f\"Generating postive and negative examples\",\n",
        "    ):\n",
        "        # Generate positive and negative skip-gram pairs for a sequence (walk).\n",
        "        pairs, labels = keras.preprocessing.sequence.skipgrams(\n",
        "            sequence,\n",
        "            vocabulary_size=vocabulary_size,\n",
        "            window_size=window_size,\n",
        "            negative_samples=num_negative_samples,\n",
        "        )\n",
        "        for idx in range(len(pairs)):\n",
        "            pair = pairs[idx]\n",
        "            label = labels[idx]\n",
        "            target, context = min(pair[0], pair[1]), max(pair[0], pair[1])\n",
        "            if target == context:\n",
        "                continue\n",
        "            entry = (target, context, label)\n",
        "            example_weights[entry] += 1\n",
        "\n",
        "    targets, contexts, labels, weights = [], [], [], []\n",
        "    for entry in example_weights:\n",
        "        weight = example_weights[entry]\n",
        "        target, context, label = entry\n",
        "        targets.append(target)\n",
        "        contexts.append(context)\n",
        "        labels.append(label)\n",
        "        weights.append(weight)\n",
        "\n",
        "    return np.array(targets), np.array(contexts), np.array(labels), np.array(weights)\n",
        "\n",
        "\n",
        "num_negative_samples = 4\n",
        "targets, contexts, labels, weights = generate_examples(\n",
        "    sequences=walks,\n",
        "    window_size=num_steps,\n",
        "    num_negative_samples=num_negative_samples,\n",
        "    vocabulary_size=len(vocabulary),\n",
        ")"
      ]
    },
    {
      "cell_type": "code",
      "execution_count": 17,
      "metadata": {
        "id": "tz2n3_T3Kl9L"
      },
      "outputs": [
        {
          "name": "stdout",
          "output_type": "stream",
          "text": [
            "Targets shape: (25043643,)\n",
            "Contexts shape: (25043643,)\n",
            "Labels shape: (25043643,)\n",
            "Weights shape: (25043643,)\n"
          ]
        }
      ],
      "source": [
        "print(f\"Targets shape: {targets.shape}\")\n",
        "print(f\"Contexts shape: {contexts.shape}\")\n",
        "print(f\"Labels shape: {labels.shape}\")\n",
        "print(f\"Weights shape: {weights.shape}\")"
      ]
    },
    {
      "cell_type": "code",
      "execution_count": 18,
      "metadata": {
        "id": "XRebznRIXIWC"
      },
      "outputs": [
        {
          "name": "stdout",
          "output_type": "stream",
          "text": [
            "Targets:\n",
            "[ 4193  3614 11528 ...  6088   392   392]\n",
            "[ 4193  3614 11528  3393 11528  5531 11528  4060  5305  7130  6227 11528\n",
            "  3276 11092  5444   942  9044  2813  6476  6508]\n",
            "Contexts:\n",
            "[11529 11529 11559 ... 13067  7893  9482]\n",
            "[11529 11529 11559 11529 12974 11528 11529 11529 11528 11528 11528 13103\n",
            " 11529 11528 11528 11529 11529 11528 11529 11528]\n",
            "Labels:\n",
            "[0 0 0 ... 0 0 0]\n",
            "[0 0 0 0 0 0 1 0 0 0 0 0 0 0 0 0 0 0 0 0]\n",
            "Weights:\n",
            "[1 1 2 ... 1 1 1]\n",
            "[  1   1   2   4   1   1 700   1   1   1   1   1   1   1   1   2   1   1\n",
            "   1   1]\n"
          ]
        }
      ],
      "source": [
        "print(\"Targets:\")\n",
        "print(targets)\n",
        "print(targets[:20])\n",
        "print(\"Contexts:\")\n",
        "print(contexts)\n",
        "print(contexts[:20])\n",
        "print(\"Labels:\")\n",
        "print(labels)\n",
        "print(labels[:20])\n",
        "print(\"Weights:\")\n",
        "print(weights)\n",
        "print(weights[:20])"
      ]
    },
    {
      "cell_type": "code",
      "execution_count": 19,
      "metadata": {
        "id": "eE3oTGM7Kq1F"
      },
      "outputs": [
        {
          "data": {
            "text/plain": [
              "<_PrefetchDataset element_spec=({'target': TensorSpec(shape=(1024,), dtype=tf.int32, name=None), 'context': TensorSpec(shape=(1024,), dtype=tf.int32, name=None)}, TensorSpec(shape=(1024,), dtype=tf.int32, name=None), TensorSpec(shape=(1024,), dtype=tf.int32, name=None))>"
            ]
          },
          "execution_count": 19,
          "metadata": {},
          "output_type": "execute_result"
        }
      ],
      "source": [
        "batch_size = 1024\n",
        "\n",
        "\n",
        "def create_dataset(targets, contexts, labels, weights, batch_size):\n",
        "    inputs = {  #dictionary\n",
        "        \"target\": targets,\n",
        "        \"context\": contexts,\n",
        "    }\n",
        "\n",
        "    dataset = tf.data.Dataset.from_tensor_slices((inputs, labels, weights))\n",
        "    dataset = dataset.shuffle(buffer_size=batch_size * 2) #Shuffle\n",
        "    dataset = dataset.batch(batch_size, drop_remainder=True)  #Batch\n",
        "    dataset = dataset.prefetch(tf.data.AUTOTUNE)  #allow the data loading pipeline to asynchronously fetch batches while the model is training\n",
        "    return dataset\n",
        "\n",
        "\n",
        "dataset = create_dataset(\n",
        "    targets=targets,\n",
        "    contexts=contexts,\n",
        "    labels=labels,\n",
        "    weights=weights,\n",
        "    batch_size=batch_size,\n",
        ")\n",
        "dataset"
      ]
    },
    {
      "cell_type": "code",
      "execution_count": 20,
      "metadata": {
        "id": "YTnF8aLaX7tF"
      },
      "outputs": [
        {
          "data": {
            "text/plain": [
              "({'target': TensorSpec(shape=(1024,), dtype=tf.int32, name=None),\n",
              "  'context': TensorSpec(shape=(1024,), dtype=tf.int32, name=None)},\n",
              " TensorSpec(shape=(1024,), dtype=tf.int32, name=None),\n",
              " TensorSpec(shape=(1024,), dtype=tf.int32, name=None))"
            ]
          },
          "execution_count": 20,
          "metadata": {},
          "output_type": "execute_result"
        }
      ],
      "source": [
        "dataset.element_spec"
      ]
    },
    {
      "cell_type": "code",
      "execution_count": 21,
      "metadata": {
        "id": "4FUJ8bV4ZHFI"
      },
      "outputs": [
        {
          "data": {
            "text/plain": [
              "{'target': TensorSpec(shape=(1024,), dtype=tf.int32, name=None),\n",
              " 'context': TensorSpec(shape=(1024,), dtype=tf.int32, name=None)}"
            ]
          },
          "execution_count": 21,
          "metadata": {},
          "output_type": "execute_result"
        }
      ],
      "source": [
        "dataset.element_spec[0]"
      ]
    },
    {
      "cell_type": "code",
      "execution_count": 22,
      "metadata": {
        "id": "iVpi9EFaKupD"
      },
      "outputs": [],
      "source": [
        "learning_rate = 0.001\n",
        "embedding_dim = 50\n",
        "num_epochs = 10"
      ]
    },
    {
      "cell_type": "code",
      "execution_count": 23,
      "metadata": {
        "id": "i8iMMxrWLLnk"
      },
      "outputs": [],
      "source": [
        "def create_model(vocabulary_size, embedding_dim):\n",
        "\n",
        "    inputs = {\n",
        "        \"target\": layers.Input(name=\"target\", shape=(), dtype=\"int32\"),\n",
        "        \"context\": layers.Input(name=\"context\", shape=(), dtype=\"int32\"),\n",
        "    }\n",
        "    # Initialize item embeddings.\n",
        "    embed_item = layers.Embedding(\n",
        "        input_dim=vocabulary_size,\n",
        "        output_dim=embedding_dim,\n",
        "        embeddings_initializer=\"he_normal\",\n",
        "        embeddings_regularizer=keras.regularizers.l2(1e-6),\n",
        "        name=\"item_embeddings\",\n",
        "    )\n",
        "    # Lookup embeddings for target.\n",
        "    target_embeddings = embed_item(inputs[\"target\"])\n",
        "    # Lookup embeddings for context.\n",
        "    context_embeddings = embed_item(inputs[\"context\"])\n",
        "    # Compute dot similarity between target and context embeddings.\n",
        "    logits = layers.Dot(axes=1, normalize=False, name=\"dot_similarity\")(\n",
        "        [target_embeddings, context_embeddings]\n",
        "    )\n",
        "    # Create the model.\n",
        "    model = keras.Model(inputs=inputs, outputs=logits)\n",
        "    return model"
      ]
    },
    {
      "cell_type": "code",
      "execution_count": 24,
      "metadata": {
        "id": "Iib5WoESLNw3"
      },
      "outputs": [
        {
          "name": "stdout",
          "output_type": "stream",
          "text": [
            "WARNING:tensorflow:From c:\\Users\\matte\\AppData\\Local\\Programs\\Python\\Python310\\lib\\site-packages\\keras\\src\\backend.py:1398: The name tf.executing_eagerly_outside_functions is deprecated. Please use tf.compat.v1.executing_eagerly_outside_functions instead.\n",
            "\n"
          ]
        }
      ],
      "source": [
        "model = create_model(len(vocabulary), embedding_dim)\n",
        "model.compile(\n",
        "    optimizer=keras.optimizers.Adam(learning_rate),\n",
        "    loss=keras.losses.BinaryCrossentropy(from_logits=True),\n",
        ")"
      ]
    },
    {
      "cell_type": "code",
      "execution_count": 37,
      "metadata": {
        "id": "nAvHahJgLQ7D"
      },
      "outputs": [
        {
          "name": "stdout",
          "output_type": "stream",
          "text": [
            "You must install pydot (`pip install pydot`) and install graphviz (see instructions at https://graphviz.gitlab.io/download/) for plot_model to work.\n"
          ]
        }
      ],
      "source": [
        "#plot model strructure\n",
        "keras.utils.plot_model(\n",
        "    model,\n",
        "    show_shapes=True,\n",
        "    show_dtype=True,\n",
        "    show_layer_names=True,\n",
        ")"
      ]
    },
    {
      "cell_type": "code",
      "execution_count": 26,
      "metadata": {
        "id": "nHMpNGONLStE"
      },
      "outputs": [
        {
          "name": "stdout",
          "output_type": "stream",
          "text": [
            "Epoch 1/10\n",
            "WARNING:tensorflow:From c:\\Users\\matte\\AppData\\Local\\Programs\\Python\\Python310\\lib\\site-packages\\keras\\src\\utils\\tf_utils.py:492: The name tf.ragged.RaggedTensorValue is deprecated. Please use tf.compat.v1.ragged.RaggedTensorValue instead.\n",
            "\n",
            "24456/24456 [==============================] - 145s 6ms/step - loss: 1.0677\n",
            "Epoch 2/10\n",
            "24456/24456 [==============================] - 143s 6ms/step - loss: 1.0448\n",
            "Epoch 3/10\n",
            "24456/24456 [==============================] - 144s 6ms/step - loss: 1.0407\n",
            "Epoch 4/10\n",
            "24456/24456 [==============================] - 147s 6ms/step - loss: 1.0393\n",
            "Epoch 5/10\n",
            "24456/24456 [==============================] - 145s 6ms/step - loss: 1.0387\n",
            "Epoch 6/10\n",
            "24456/24456 [==============================] - 148s 6ms/step - loss: 1.0384\n",
            "Epoch 7/10\n",
            "24456/24456 [==============================] - 145s 6ms/step - loss: 1.0380\n",
            "Epoch 8/10\n",
            "24456/24456 [==============================] - 145s 6ms/step - loss: 1.0377\n",
            "Epoch 9/10\n",
            "24456/24456 [==============================] - 147s 6ms/step - loss: 1.0373\n",
            "Epoch 10/10\n",
            "24456/24456 [==============================] - 146s 6ms/step - loss: 1.0371\n"
          ]
        }
      ],
      "source": [
        "history = model.fit(dataset, epochs=num_epochs)"
      ]
    },
    {
      "cell_type": "code",
      "execution_count": 27,
      "metadata": {
        "id": "9sxOBga9LY0n"
      },
      "outputs": [
        {
          "data": {
            "image/png": "[encoded data removed]",
            "text/plain": [
              "<Figure size 640x480 with 1 Axes>"
            ]
          },
          "metadata": {},
          "output_type": "display_data"
        }
      ],
      "source": [
        "plt.plot(history.history[\"loss\"])\n",
        "plt.ylabel(\"loss\")\n",
        "plt.xlabel(\"epoch\")\n",
        "plt.show()"
      ]
    },
    {
      "cell_type": "code",
      "execution_count": 28,
      "metadata": {
        "id": "ZMHbzPVTLh0s"
      },
      "outputs": [
        {
          "name": "stdout",
          "output_type": "stream",
          "text": [
            "Embeddings shape: (13269, 50)\n"
          ]
        }
      ],
      "source": [
        "#retrieve the movie embeddings from item_embeddings layer\n",
        "movie_embeddings = model.get_layer(\"item_embeddings\").get_weights()[0]\n",
        "print(\"Embeddings shape:\", movie_embeddings.shape) #(num_nodes, num_features)"
      ]
    },
    {
      "cell_type": "code",
      "execution_count": 29,
      "metadata": {
        "id": "Gpdi_4GnbXA3"
      },
      "outputs": [
        {
          "data": {
            "text/plain": [
              "array([-4.6077257e-30, -4.5317372e-30,  4.5165758e-30,  4.5729645e-30,\n",
              "        4.5041919e-30, -4.5834044e-30, -4.5208948e-30, -4.6096889e-30,\n",
              "        4.5696442e-30, -4.5384253e-30,  4.5286614e-30, -4.6095234e-30,\n",
              "       -4.5708840e-30, -4.5719625e-30, -4.5336805e-30, -4.5905496e-30,\n",
              "       -4.5948035e-30,  4.5619845e-30, -4.5578494e-30,  4.6090787e-30,\n",
              "       -4.5172600e-30, -4.6035135e-30, -4.5491071e-30, -4.5758395e-30,\n",
              "       -4.5199360e-30, -4.5725391e-30,  4.5369914e-30, -4.5946911e-30,\n",
              "       -4.5189354e-30,  4.5247309e-30, -4.5811599e-30,  4.5886451e-30,\n",
              "       -4.4936264e-30, -4.5154368e-30, -4.5851622e-30,  4.5986110e-30,\n",
              "        4.5891555e-30,  4.5986193e-30,  4.5527882e-30,  4.5533750e-30,\n",
              "        4.6040157e-30, -4.5867827e-30, -4.5698643e-30, -4.5372179e-30,\n",
              "       -4.5981502e-30,  4.5997827e-30,  4.5536620e-30,  4.5748480e-30,\n",
              "        4.5703687e-30, -4.5736070e-30], dtype=float32)"
            ]
          },
          "execution_count": 29,
          "metadata": {},
          "output_type": "execute_result"
        }
      ],
      "source": [
        "movie_embeddings[0] #embedding for first node"
      ]
    },
    {
      "cell_type": "code",
      "execution_count": 31,
      "metadata": {
        "id": "grfikYNhLoUo"
      },
      "outputs": [
        {
          "data": {
            "text/plain": [
              "['Hellbenders (2012)',\n",
              " 'Dumb & Dumber (Dumb and Dumber) (1994)',\n",
              " 'Kiss the Girls (1997)',\n",
              " 'Ideal Husband, An (1999)']"
            ]
          },
          "execution_count": 31,
          "metadata": {},
          "output_type": "execute_result"
        }
      ],
      "source": [
        "#test our model: get some random titles\n",
        "query_movies = [\n",
        "    movies[movies['movieId'] == 'movie_118270']['title'].values[0],\n",
        "    movies[movies['movieId'] == 'movie_231']['title'].values[0],\n",
        "    movies[movies['movieId'] == 'movie_1620']['title'].values[0],\n",
        "    movies[movies['movieId'] == 'movie_2690']['title'].values[0],\n",
        "    ]\n",
        "query_movies"
      ]
    },
    {
      "cell_type": "code",
      "execution_count": 32,
      "metadata": {
        "id": "Gih5sdxCLuKT"
      },
      "outputs": [
        {
          "data": {
            "text/plain": [
              "array([[ 0.0163202 ,  0.0932829 ,  0.06450331,  0.01866675, -0.01810856,\n",
              "         0.07934023,  0.12580658, -0.04070467,  0.07354795,  0.09173623,\n",
              "        -0.129471  ,  0.02382313,  0.04385881, -0.07973416,  0.01118892,\n",
              "         0.04501341,  0.11788721,  0.15168972,  0.01581088, -0.05702766,\n",
              "         0.16620201,  0.03676476,  0.08097501,  0.03242667, -0.03647291,\n",
              "        -0.04322508, -0.09517179, -0.1484253 , -0.0818435 ,  0.06192297,\n",
              "        -0.04979985, -0.0699146 ,  0.03179297, -0.00337654,  0.38030767,\n",
              "         0.02603541,  0.00751691, -0.27460346,  0.0603842 ,  0.12944187,\n",
              "        -0.06549282,  0.05279103,  0.02015718, -0.03855585,  0.0201449 ,\n",
              "         0.02767831, -0.11134077, -0.01500324, -0.08002529,  0.24982095]],\n",
              "      dtype=float32)"
            ]
          },
          "execution_count": 32,
          "metadata": {},
          "output_type": "execute_result"
        }
      ],
      "source": [
        "#Get the embeddings of these titles\n",
        "query_embeddings = []\n",
        "\n",
        "for movie_title in query_movies:\n",
        "    movieId = get_movie_id_by_title(movie_title)\n",
        "    token_id = vocabulary_lookup[movieId]\n",
        "    movie_embedding = movie_embeddings[token_id]\n",
        "    query_embeddings.append(movie_embedding)\n",
        "\n",
        "query_embeddings = np.array(query_embeddings)\n",
        "query_embeddings[:1]"
      ]
    },
    {
      "cell_type": "code",
      "execution_count": 33,
      "metadata": {
        "id": "HimEWGc-L4kR"
      },
      "outputs": [],
      "source": [
        "#Compute the consine similarity between the embeddings of query_movies and all the other movies, then pick the top 5 for each.\n",
        "\n",
        "similarities = tf.linalg.matmul(\n",
        "    tf.math.l2_normalize(query_embeddings),\n",
        "    tf.math.l2_normalize(movie_embeddings),\n",
        "    transpose_b=True,\n",
        ")\n",
        "\n",
        "_, indices = tf.math.top_k(similarities, k=5)\n",
        "indices = indices.numpy().tolist()"
      ]
    },
    {
      "cell_type": "code",
      "execution_count": 34,
      "metadata": {
        "id": "s1XW6ZceL6jR"
      },
      "outputs": [
        {
          "name": "stdout",
          "output_type": "stream",
          "text": [
            "Hellbenders (2012)\n",
            "------------------\n",
            "- Remember My Name (1978)\n",
            "- Pathetic Fallacy (Ajantrik) (1958)\n",
            "- Red Army (2014)\n",
            "- Read It and Weep (2006)\n",
            "- Eight Deadly Shots (Kahdeksan surmanluotia) (1972)\n",
            "\n",
            "Dumb & Dumber (Dumb and Dumber) (1994)\n",
            "--------------------------------------\n",
            "- Incredibles, The (2004)\n",
            "- Spider-Man 2 (2004)\n",
            "- WALL·E (2008)\n",
            "- Casino Royale (2006)\n",
            "- Snatch (2000)\n",
            "\n",
            "Kiss the Girls (1997)\n",
            "---------------------\n",
            "- Princess Bride, The (1987)\n",
            "- Apollo 13 (1995)\n",
            "- Hunt for Red October, The (1990)\n",
            "- Spider-Man (2002)\n",
            "- Rain Man (1988)\n",
            "\n",
            "Ideal Husband, An (1999)\n",
            "------------------------\n",
            "- Maltese Falcon, The (1941)\n",
            "- Being There (1979)\n",
            "- Singin' in the Rain (1952)\n",
            "- Crumb (1994)\n",
            "- Dumbo (1941)\n",
            "\n"
          ]
        }
      ],
      "source": [
        "#Display the top related movies in query_movies.\n",
        "\n",
        "for idx, title in enumerate(query_movies):\n",
        "    print(title)\n",
        "    print(\"\".rjust(len(title), \"-\"))\n",
        "    similar_tokens = indices[idx]\n",
        "    for token in similar_tokens:\n",
        "        similar_movieId = vocabulary[token]\n",
        "        similar_title = get_movie_title_by_id(similar_movieId)\n",
        "        print(f\"- {similar_title}\")\n",
        "    print()"
      ]
    },
    {
      "cell_type": "code",
      "execution_count": 35,
      "metadata": {
        "id": "ly1vb4cPm4qC"
      },
      "outputs": [
        {
          "name": "stdout",
          "output_type": "stream",
          "text": [
            "Movies rated at least 5.0 by user 1: ['movie_4993', 'movie_5952', 'movie_7153', 'movie_8507']\n",
            "Lord of the Rings: The Fellowship of the Ring, The (2001)\n",
            "---------------------------------------------------------\n",
            "- Star Wars: Episode V - The Empire Strikes Back (1980)\n",
            "- Raiders of the Lost Ark (Indiana Jones and the Raiders of the Lost Ark) (1981)\n",
            "- Lord of the Rings: The Fellowship of the Ring, The (2001)\n",
            "- Pulp Fiction (1994)\n",
            "- Shawshank Redemption, The (1994)\n",
            "\n",
            "Lord of the Rings: The Two Towers, The (2002)\n",
            "---------------------------------------------\n",
            "- Star Wars: Episode V - The Empire Strikes Back (1980)\n",
            "- Raiders of the Lost Ark (Indiana Jones and the Raiders of the Lost Ark) (1981)\n",
            "- Pulp Fiction (1994)\n",
            "- Godfather, The (1972)\n",
            "- Lord of the Rings: The Fellowship of the Ring, The (2001)\n",
            "\n",
            "Lord of the Rings: The Return of the King, The (2003)\n",
            "-----------------------------------------------------\n",
            "- Star Wars: Episode V - The Empire Strikes Back (1980)\n",
            "- Raiders of the Lost Ark (Indiana Jones and the Raiders of the Lost Ark) (1981)\n",
            "- Lord of the Rings: The Fellowship of the Ring, The (2001)\n",
            "- Pulp Fiction (1994)\n",
            "- Godfather, The (1972)\n",
            "\n",
            "Freaks (1932)\n",
            "-------------\n",
            "- Odd Man Out (1947)\n",
            "- Ball of Fire (1941)\n",
            "- Stagecoach (1939)\n",
            "- Freaks (1932)\n",
            "- Ugetsu (Ugetsu monogatari) (1953)\n",
            "\n",
            "We suggest User_1 to watch Godfather, The (1972) as next movie\n"
          ]
        }
      ],
      "source": [
        "def get_high_rated_movies(user_id, threshold):  #filter movies with high rating from that user\n",
        "    user_movies = ratings[(ratings['userId'] == user_id) & (ratings['rating'] >= threshold)]['movieId'].tolist()\n",
        "    return user_movies\n",
        "\n",
        "user_id = 1 #input\n",
        "\n",
        "query_movies = get_high_rated_movies(user_id, 5.0)\n",
        "print(f\"Movies rated at least 5.0 by user {user_id}: {query_movies}\")\n",
        "\n",
        "if(not query_movies): #no movies reviewed as 5.0 by the user: let's take lower reviewed movies\n",
        "  query_movies = get_high_rated_movies(user_id, 3.0)\n",
        "\n",
        "query_movies = [element for element in query_movies if element in movies_graph.nodes()] #some movies are not present since not connected with other movies\n",
        "\n",
        "if(not query_movies):\n",
        "  print(\"This user has not reviewed enough movies\")\n",
        "  raise SystemExit(\"Stop right there!\")\n",
        "\n",
        "#Get the embeddings of the movies in query_movies.\n",
        "query_embeddings = []\n",
        "\n",
        "for movieId in query_movies:  #calculate embeddings for the high-rated movies seen by the user\n",
        "    token_id = vocabulary_lookup[movieId]\n",
        "    movie_embedding = movie_embeddings[token_id]\n",
        "    query_embeddings.append(movie_embedding)\n",
        "\n",
        "query_embeddings = np.array(query_embeddings)\n",
        "\n",
        "#Compute the consine similarity between the embeddings of query_movies and all the other movies, then pick the top k for each.\n",
        "similarities = tf.linalg.matmul(\n",
        "    tf.math.l2_normalize(query_embeddings),\n",
        "    tf.math.l2_normalize(movie_embeddings),\n",
        "    transpose_b=True,\n",
        ")\n",
        "\n",
        "_, indices = tf.math.top_k(similarities, k=5)\n",
        "indices = indices.numpy().tolist()\n",
        "\n",
        "movie_rank_for_user = []\n",
        "\n",
        "#Display the top related movies in query_movies.\n",
        "for idx, id in enumerate(query_movies):\n",
        "    title = get_movie_title_by_id(id)\n",
        "    print(title)\n",
        "    print(\"\".rjust(len(title), \"-\"))\n",
        "    similar_tokens = indices[idx]\n",
        "    for token in similar_tokens:\n",
        "        similar_movieId = vocabulary[token]\n",
        "        similar_title = get_movie_title_by_id(similar_movieId)\n",
        "        print(f\"- {similar_title}\")\n",
        "\n",
        "        movie_rank_for_user.append(token) #add all similar movies to this list\n",
        "\n",
        "    print()\n",
        "\n",
        "\n",
        "from collections import Counter\n",
        "#get the most common similar movie\n",
        "counter = Counter(movie_rank_for_user)\n",
        "\n",
        "# Sort elements by frequency (most common first)\n",
        "sorted_elements = sorted(counter.items(), key=lambda x: x[1], reverse=True)\n",
        "\n",
        "# Extract the elements from the sorted list\n",
        "most_present_elements = [element for element, _ in sorted_elements]\n",
        "\n",
        "\n",
        "for id in most_present_elements:\n",
        "  movieId = vocabulary[id]\n",
        "  if(ratings[(ratings['userId'] == user_id) & (ratings['movieId'] == movieId)].empty):  #movie not yet watched: we can recommend it\n",
        "    title = get_movie_title_by_id(movieId)\n",
        "    print(f\"We suggest User_{user_id} to watch {title} as next movie\")\n",
        "    break"
      ]
    },
    {
      "cell_type": "code",
      "execution_count": null,
      "metadata": {
        "id": "WuX6rdQnq1c_"
      },
      "outputs": [],
      "source": []
    }
  ],
  "metadata": {
    "colab": {
      "authorship_tag": "ABX9TyOUvps4jtpjOoadtbTi2ezK",
      "include_colab_link": true,
      "provenance": []
    },
    "kernelspec": {
      "display_name": "Python 3",
      "name": "python3"
    },
    "language_info": {
      "codemirror_mode": {
        "name": "ipython",
        "version": 3
      },
      "file_extension": ".py",
      "mimetype": "text/x-python",
      "name": "python",
      "nbconvert_exporter": "python",
      "pygments_lexer": "ipython3",
      "version": "3.10.11"
    }
  },
  "nbformat": 4,
  "nbformat_minor": 0
}
