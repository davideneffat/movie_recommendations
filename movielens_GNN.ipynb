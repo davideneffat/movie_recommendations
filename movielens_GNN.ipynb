{
  "cells": [
    {
      "cell_type": "markdown",
      "metadata": {
        "colab_type": "text",
        "id": "view-in-github"
      },
      "source": [
        "<a href=\"https://colab.research.google.com/github/davideneffat/movie_recommendations/blob/main/movielens.ipynb\" target=\"_parent\"><img src=\"https://colab.research.google.com/assets/colab-badge.svg\" alt=\"Open In Colab\"/></a>"
      ]
    },
    {
      "cell_type": "code",
      "execution_count": 1,
      "metadata": {
        "colab": {
          "base_uri": "https://localhost:8080/"
        },
        "id": "uh7LaSzfwcj2",
        "outputId": "e3d8fafe-b1ce-4ee4-9521-37fc510fc30d"
      },
      "outputs": [
        {
          "name": "stdout",
          "output_type": "stream",
          "text": [
            "2.1.2+cu118\n"
          ]
        }
      ],
      "source": [
        "import torch\n",
        "from torch import Tensor\n",
        "print(torch.__version__)"
      ]
    },
    {
      "cell_type": "code",
      "execution_count": 2,
      "metadata": {
        "colab": {
          "base_uri": "https://localhost:8080/"
        },
        "id": "AsWUrVh7vZtM",
        "outputId": "6acfebca-b1dd-466e-dec5-07e1aec2b8d2"
      },
      "outputs": [
        {
          "name": "stdout",
          "output_type": "stream",
          "text": [
            "Looking in links: https://data.pyg.org/whl/torch-${TORCH}.html\n",
            "Requirement already satisfied: torch-scatter in c:\\users\\matte\\appdata\\local\\programs\\python\\python310\\lib\\site-packages (2.1.2+pt21cpu)\n",
            "Looking in links: https://data.pyg.org/whl/torch-${TORCH}.html\n",
            "Requirement already satisfied: torch-sparse in c:\\users\\matte\\appdata\\local\\programs\\python\\python310\\lib\\site-packages (0.6.18+pt21cpu)\n",
            "Requirement already satisfied: scipy in c:\\users\\matte\\appdata\\local\\programs\\python\\python310\\lib\\site-packages (from torch-sparse) (1.11.4)\n",
            "Requirement already satisfied: numpy<1.28.0,>=1.21.6 in c:\\users\\matte\\appdata\\local\\programs\\python\\python310\\lib\\site-packages (from scipy->torch-sparse) (1.26.3)\n",
            "Looking in links: https://data.pyg.org/whl/nightly/torch-${TORCH}.html\n"
          ]
        },
        {
          "name": "stderr",
          "output_type": "stream",
          "text": [
            "ERROR: Could not find a version that satisfies the requirement pyg-lib (from versions: none)\n",
            "ERROR: No matching distribution found for pyg-lib\n"
          ]
        },
        {
          "name": "stdout",
          "output_type": "stream",
          "text": [
            "Collecting git+https://github.com/pyg-team/pytorch_geometric.git\n",
            "  Cloning https://github.com/pyg-team/pytorch_geometric.git to c:\\users\\matte\\appdata\\local\\temp\\pip-req-build-0jh30vr8\n"
          ]
        },
        {
          "name": "stderr",
          "output_type": "stream",
          "text": [
            "  ERROR: Error [WinError 2] Impossibile trovare il file specificato while executing command git version\n",
            "ERROR: Cannot find command 'git' - do you have 'git' installed and in your PATH?\n"
          ]
        }
      ],
      "source": [
        "# Install required packages.\n",
        "import os\n",
        "os.environ['TORCH'] = torch.__version__\n",
        "\n",
        "!pip install torch-scatter -f https://data.pyg.org/whl/torch-${TORCH}.html\n",
        "!pip install torch-sparse -f https://data.pyg.org/whl/torch-${TORCH}.html\n",
        "!pip install pyg-lib -f https://data.pyg.org/whl/nightly/torch-${TORCH}.html\n",
        "!pip install git+https://github.com/pyg-team/pytorch_geometric.git"
      ]
    },
    {
      "cell_type": "code",
      "execution_count": 3,
      "metadata": {
        "colab": {
          "base_uri": "https://localhost:8080/"
        },
        "id": "ciYr7NWEv5_o",
        "outputId": "1ac15803-ac48-4aae-c076-61af5f10c821"
      },
      "outputs": [],
      "source": [
        "from torch_geometric.data import download_url, extract_zip\n",
        "\n",
        "#if running on colab\n",
        "#url = 'https://files.grouplens.org/datasets/movielens/ml-20m.zip'\n",
        "#extract_zip(download_url(url, '.'), '.')\n",
        "\n",
        "#movies_path = './ml-20m/movies.csv'\n",
        "#ratings_path = './ml-20m/ratings.csv'"
      ]
    },
    {
      "cell_type": "code",
      "execution_count": 4,
      "metadata": {
        "id": "HyGWivv_Ct1o"
      },
      "outputs": [],
      "source": [
        "#if running locally\n",
        "import os\n",
        "import requests\n",
        "import zipfile\n",
        "\n",
        "def download_url(url, save_path):\n",
        "    response = requests.get(url)\n",
        "    with open(save_path, 'wb') as file:\n",
        "        file.write(response.content)\n",
        "\n",
        "def extract_zip(zip_file_path, extract_folder):\n",
        "    with zipfile.ZipFile(zip_file_path, 'r') as zip_ref:\n",
        "        zip_ref.extractall(extract_folder)\n",
        "\n",
        "url = 'https://files.grouplens.org/datasets/movielens/ml-20m.zip'\n",
        "zip_file_name = 'ml-20m.zip'\n",
        "download_folder = 'C:/Users/matte/Downloads/'  # download location\n",
        "extract_folder = 'C:/Users/matte/Downloads/'   # extraction location\n",
        "\n",
        "#zip_file_path = os.path.join(download_folder, zip_file_name)\n",
        "#download_url(url, zip_file_path)\n",
        "\n",
        "#extract_zip(zip_file_path, extract_folder)\n",
        "\n",
        "movies_path = os.path.join(extract_folder, 'ml-20m', 'movies.csv')\n",
        "ratings_path = os.path.join(extract_folder, 'ml-20m', 'ratings.csv')"
      ]
    },
    {
      "cell_type": "code",
      "execution_count": 5,
      "metadata": {
        "colab": {
          "base_uri": "https://localhost:8080/",
          "height": 223
        },
        "id": "D6ixkcCOwCDi",
        "outputId": "38a755d1-8baa-4ea4-c0e2-77e43e1d6308"
      },
      "outputs": [
        {
          "name": "stdout",
          "output_type": "stream",
          "text": [
            "movies.csv:\n"
          ]
        },
        {
          "data": {
            "text/html": [
              "<div>\n",
              "<style scoped>\n",
              "    .dataframe tbody tr th:only-of-type {\n",
              "        vertical-align: middle;\n",
              "    }\n",
              "\n",
              "    .dataframe tbody tr th {\n",
              "        vertical-align: top;\n",
              "    }\n",
              "\n",
              "    .dataframe thead th {\n",
              "        text-align: right;\n",
              "    }\n",
              "</style>\n",
              "<table border=\"1\" class=\"dataframe\">\n",
              "  <thead>\n",
              "    <tr style=\"text-align: right;\">\n",
              "      <th></th>\n",
              "      <th>movieId</th>\n",
              "      <th>title</th>\n",
              "      <th>genres</th>\n",
              "    </tr>\n",
              "  </thead>\n",
              "  <tbody>\n",
              "    <tr>\n",
              "      <th>0</th>\n",
              "      <td>1</td>\n",
              "      <td>Toy Story (1995)</td>\n",
              "      <td>Adventure|Animation|Children|Comedy|Fantasy</td>\n",
              "    </tr>\n",
              "    <tr>\n",
              "      <th>1</th>\n",
              "      <td>2</td>\n",
              "      <td>Jumanji (1995)</td>\n",
              "      <td>Adventure|Children|Fantasy</td>\n",
              "    </tr>\n",
              "    <tr>\n",
              "      <th>2</th>\n",
              "      <td>3</td>\n",
              "      <td>Grumpier Old Men (1995)</td>\n",
              "      <td>Comedy|Romance</td>\n",
              "    </tr>\n",
              "    <tr>\n",
              "      <th>3</th>\n",
              "      <td>4</td>\n",
              "      <td>Waiting to Exhale (1995)</td>\n",
              "      <td>Comedy|Drama|Romance</td>\n",
              "    </tr>\n",
              "    <tr>\n",
              "      <th>4</th>\n",
              "      <td>5</td>\n",
              "      <td>Father of the Bride Part II (1995)</td>\n",
              "      <td>Comedy</td>\n",
              "    </tr>\n",
              "  </tbody>\n",
              "</table>\n",
              "</div>"
            ],
            "text/plain": [
              "   movieId                               title  \\\n",
              "0        1                    Toy Story (1995)   \n",
              "1        2                      Jumanji (1995)   \n",
              "2        3             Grumpier Old Men (1995)   \n",
              "3        4            Waiting to Exhale (1995)   \n",
              "4        5  Father of the Bride Part II (1995)   \n",
              "\n",
              "                                        genres  \n",
              "0  Adventure|Animation|Children|Comedy|Fantasy  \n",
              "1                   Adventure|Children|Fantasy  \n",
              "2                               Comedy|Romance  \n",
              "3                         Comedy|Drama|Romance  \n",
              "4                                       Comedy  "
            ]
          },
          "execution_count": 5,
          "metadata": {},
          "output_type": "execute_result"
        }
      ],
      "source": [
        "import pandas as pd\n",
        "\n",
        "print('movies.csv:')\n",
        "pd.read_csv(movies_path).head()"
      ]
    },
    {
      "cell_type": "code",
      "execution_count": 6,
      "metadata": {
        "colab": {
          "base_uri": "https://localhost:8080/"
        },
        "id": "dd_BJMNcwJ7k",
        "outputId": "2d182617-de86-4b15-f266-51650f5c61a2"
      },
      "outputs": [
        {
          "name": "stdout",
          "output_type": "stream",
          "text": [
            "         Action  Adventure  Drama  Horror  Animation  Fantasy\n",
            "movieId                                                      \n",
            "1             0          1      0       0          1        1\n",
            "2             0          1      0       0          0        1\n",
            "3             0          0      0       0          0        0\n",
            "4             0          0      1       0          0        0\n",
            "5             0          0      0       0          0        0\n"
          ]
        }
      ],
      "source": [
        "movies_df = pd.read_csv(movies_path, index_col='movieId')\n",
        "\n",
        "# Split genres and convert into indicator variables:\n",
        "genres = movies_df['genres'].str.get_dummies('|')#creates a binary indicator for each genre, separated by the '|' delimiter\n",
        "print(genres[[\"Action\", \"Adventure\", \"Drama\", \"Horror\",\"Animation\",\"Fantasy\"]].head())\n",
        "\n",
        "# Use genres as movie input features:\n",
        "movie_feat = torch.from_numpy(genres.values).to(torch.float)#tensor of movie features, size (9742, 20) = (# nodes, # genres)"
      ]
    },
    {
      "cell_type": "code",
      "execution_count": 7,
      "metadata": {
        "colab": {
          "base_uri": "https://localhost:8080/",
          "height": 237
        },
        "id": "YYcX_mKQq1uN",
        "outputId": "2a17e24d-2e00-4e55-bcd6-1e7a93cddbe3"
      },
      "outputs": [
        {
          "data": {
            "text/html": [
              "<div>\n",
              "<style scoped>\n",
              "    .dataframe tbody tr th:only-of-type {\n",
              "        vertical-align: middle;\n",
              "    }\n",
              "\n",
              "    .dataframe tbody tr th {\n",
              "        vertical-align: top;\n",
              "    }\n",
              "\n",
              "    .dataframe thead th {\n",
              "        text-align: right;\n",
              "    }\n",
              "</style>\n",
              "<table border=\"1\" class=\"dataframe\">\n",
              "  <thead>\n",
              "    <tr style=\"text-align: right;\">\n",
              "      <th></th>\n",
              "      <th>title</th>\n",
              "      <th>genres</th>\n",
              "    </tr>\n",
              "    <tr>\n",
              "      <th>movieId</th>\n",
              "      <th></th>\n",
              "      <th></th>\n",
              "    </tr>\n",
              "  </thead>\n",
              "  <tbody>\n",
              "    <tr>\n",
              "      <th>1</th>\n",
              "      <td>Toy Story (1995)</td>\n",
              "      <td>Adventure|Animation|Children|Comedy|Fantasy</td>\n",
              "    </tr>\n",
              "    <tr>\n",
              "      <th>2</th>\n",
              "      <td>Jumanji (1995)</td>\n",
              "      <td>Adventure|Children|Fantasy</td>\n",
              "    </tr>\n",
              "    <tr>\n",
              "      <th>3</th>\n",
              "      <td>Grumpier Old Men (1995)</td>\n",
              "      <td>Comedy|Romance</td>\n",
              "    </tr>\n",
              "    <tr>\n",
              "      <th>4</th>\n",
              "      <td>Waiting to Exhale (1995)</td>\n",
              "      <td>Comedy|Drama|Romance</td>\n",
              "    </tr>\n",
              "    <tr>\n",
              "      <th>5</th>\n",
              "      <td>Father of the Bride Part II (1995)</td>\n",
              "      <td>Comedy</td>\n",
              "    </tr>\n",
              "  </tbody>\n",
              "</table>\n",
              "</div>"
            ],
            "text/plain": [
              "                                      title  \\\n",
              "movieId                                       \n",
              "1                          Toy Story (1995)   \n",
              "2                            Jumanji (1995)   \n",
              "3                   Grumpier Old Men (1995)   \n",
              "4                  Waiting to Exhale (1995)   \n",
              "5        Father of the Bride Part II (1995)   \n",
              "\n",
              "                                              genres  \n",
              "movieId                                               \n",
              "1        Adventure|Animation|Children|Comedy|Fantasy  \n",
              "2                         Adventure|Children|Fantasy  \n",
              "3                                     Comedy|Romance  \n",
              "4                               Comedy|Drama|Romance  \n",
              "5                                             Comedy  "
            ]
          },
          "execution_count": 7,
          "metadata": {},
          "output_type": "execute_result"
        }
      ],
      "source": [
        "movies_df.head()"
      ]
    },
    {
      "cell_type": "code",
      "execution_count": 8,
      "metadata": {
        "id": "7buN-bAacRSe"
      },
      "outputs": [],
      "source": [
        "ratings_df = pd.read_csv(ratings_path)"
      ]
    },
    {
      "cell_type": "code",
      "execution_count": 9,
      "metadata": {
        "colab": {
          "base_uri": "https://localhost:8080/",
          "height": 223
        },
        "id": "ZQMWZY_lueKX",
        "outputId": "37d1cb63-2315-49b6-be0e-931bcd203297"
      },
      "outputs": [
        {
          "name": "stdout",
          "output_type": "stream",
          "text": [
            "ratings.csv:\n"
          ]
        },
        {
          "data": {
            "text/html": [
              "<div>\n",
              "<style scoped>\n",
              "    .dataframe tbody tr th:only-of-type {\n",
              "        vertical-align: middle;\n",
              "    }\n",
              "\n",
              "    .dataframe tbody tr th {\n",
              "        vertical-align: top;\n",
              "    }\n",
              "\n",
              "    .dataframe thead th {\n",
              "        text-align: right;\n",
              "    }\n",
              "</style>\n",
              "<table border=\"1\" class=\"dataframe\">\n",
              "  <thead>\n",
              "    <tr style=\"text-align: right;\">\n",
              "      <th></th>\n",
              "      <th>userId</th>\n",
              "      <th>movieId</th>\n",
              "      <th>rating</th>\n",
              "      <th>timestamp</th>\n",
              "    </tr>\n",
              "  </thead>\n",
              "  <tbody>\n",
              "    <tr>\n",
              "      <th>0</th>\n",
              "      <td>1</td>\n",
              "      <td>2</td>\n",
              "      <td>3.5</td>\n",
              "      <td>1112486027</td>\n",
              "    </tr>\n",
              "    <tr>\n",
              "      <th>1</th>\n",
              "      <td>1</td>\n",
              "      <td>29</td>\n",
              "      <td>3.5</td>\n",
              "      <td>1112484676</td>\n",
              "    </tr>\n",
              "    <tr>\n",
              "      <th>2</th>\n",
              "      <td>1</td>\n",
              "      <td>32</td>\n",
              "      <td>3.5</td>\n",
              "      <td>1112484819</td>\n",
              "    </tr>\n",
              "    <tr>\n",
              "      <th>3</th>\n",
              "      <td>1</td>\n",
              "      <td>47</td>\n",
              "      <td>3.5</td>\n",
              "      <td>1112484727</td>\n",
              "    </tr>\n",
              "    <tr>\n",
              "      <th>4</th>\n",
              "      <td>1</td>\n",
              "      <td>50</td>\n",
              "      <td>3.5</td>\n",
              "      <td>1112484580</td>\n",
              "    </tr>\n",
              "  </tbody>\n",
              "</table>\n",
              "</div>"
            ],
            "text/plain": [
              "   userId  movieId  rating   timestamp\n",
              "0       1        2     3.5  1112486027\n",
              "1       1       29     3.5  1112484676\n",
              "2       1       32     3.5  1112484819\n",
              "3       1       47     3.5  1112484727\n",
              "4       1       50     3.5  1112484580"
            ]
          },
          "execution_count": 9,
          "metadata": {},
          "output_type": "execute_result"
        }
      ],
      "source": [
        "print('ratings.csv:')\n",
        "ratings_df.head()"
      ]
    },
    {
      "cell_type": "code",
      "execution_count": 10,
      "metadata": {
        "colab": {
          "base_uri": "https://localhost:8080/",
          "height": 593
        },
        "id": "4VL3FrtvcPMt",
        "outputId": "1666f073-d567-443e-9247-5bb6431f0275"
      },
      "outputs": [
        {
          "name": "stderr",
          "output_type": "stream",
          "text": [
            "C:\\Users\\matte\\AppData\\Local\\Temp\\ipykernel_20924\\1420837810.py:7: UserWarning: set_ticklabels() should only be used with a fixed number of ticks, i.e. after set_ticks() or using a FixedLocator.\n",
            "  ax.set_yticklabels(['{:,.0%}'.format(x) for x in vals])\n"
          ]
        },
        {
          "data": {
            "image/png": "[encoded data removed]",
            "text/plain": [
              "<Figure size 800x600 with 1 Axes>"
            ]
          },
          "metadata": {},
          "output_type": "display_data"
        }
      ],
      "source": [
        "#print ratings distribution\n",
        "from matplotlib import pyplot as plt\n",
        "\n",
        "fig = plt.figure()\n",
        "ax = ratings_df.rating.value_counts(True).sort_index().plot.bar(figsize=(8,6))\n",
        "vals = ax.get_yticks()\n",
        "ax.set_yticklabels(['{:,.0%}'.format(x) for x in vals])\n",
        "plt.xlabel('Rating', fontsize=12)\n",
        "plt.ylabel('Share of Ratings', fontsize=12)\n",
        "plt.xticks(fontsize=12)\n",
        "plt.yticks(fontsize=12)\n",
        "fig.savefig('Ratings_distribution.png')"
      ]
    },
    {
      "cell_type": "code",
      "execution_count": 11,
      "metadata": {
        "id": "5lzKVKWwcyJe"
      },
      "outputs": [],
      "source": [
        "#let's round ratings to integers for simplicity\n",
        "import numpy as np\n",
        "\n",
        "ratings_df['rating'] = np.ceil(ratings_df['rating']).astype(int)"
      ]
    },
    {
      "cell_type": "code",
      "execution_count": 12,
      "metadata": {
        "colab": {
          "base_uri": "https://localhost:8080/",
          "height": 577
        },
        "id": "aqjrMTiSdF8l",
        "outputId": "2c687542-bdb3-4860-d812-25a8f2cd979b"
      },
      "outputs": [
        {
          "name": "stderr",
          "output_type": "stream",
          "text": [
            "C:\\Users\\matte\\AppData\\Local\\Temp\\ipykernel_20924\\1725566990.py:7: UserWarning: set_ticklabels() should only be used with a fixed number of ticks, i.e. after set_ticks() or using a FixedLocator.\n",
            "  ax.set_yticklabels(['{:,.0%}'.format(x) for x in vals])\n"
          ]
        },
        {
          "data": {
            "image/png": "[encoded data removed]",
            "text/plain": [
              "<Figure size 800x600 with 1 Axes>"
            ]
          },
          "metadata": {},
          "output_type": "display_data"
        }
      ],
      "source": [
        "#print new ratings distribution\n",
        "from matplotlib import pyplot as plt\n",
        "\n",
        "fig = plt.figure()\n",
        "ax = ratings_df.rating.value_counts(True).sort_index().plot.bar(figsize=(8,6))\n",
        "vals = ax.get_yticks()\n",
        "ax.set_yticklabels(['{:,.0%}'.format(x) for x in vals])\n",
        "plt.xlabel('Rating', fontsize=12)\n",
        "plt.ylabel('Share of Ratings', fontsize=12)\n",
        "plt.xticks(fontsize=12)\n",
        "plt.yticks(fontsize=12)\n",
        "fig.savefig('Ratings_distribution.png')"
      ]
    },
    {
      "cell_type": "code",
      "execution_count": 13,
      "metadata": {
        "colab": {
          "base_uri": "https://localhost:8080/",
          "height": 519
        },
        "id": "HsM3n8qrg4U_",
        "outputId": "867c0f1d-9bb9-474d-f758-72b07a7635c4"
      },
      "outputs": [
        {
          "data": {
            "text/html": [
              "<div>\n",
              "<style scoped>\n",
              "    .dataframe tbody tr th:only-of-type {\n",
              "        vertical-align: middle;\n",
              "    }\n",
              "\n",
              "    .dataframe tbody tr th {\n",
              "        vertical-align: top;\n",
              "    }\n",
              "\n",
              "    .dataframe thead th {\n",
              "        text-align: right;\n",
              "    }\n",
              "</style>\n",
              "<table border=\"1\" class=\"dataframe\">\n",
              "  <thead>\n",
              "    <tr style=\"text-align: right;\">\n",
              "      <th></th>\n",
              "      <th>userId</th>\n",
              "      <th>movieId</th>\n",
              "      <th>rating</th>\n",
              "      <th>timestamp</th>\n",
              "    </tr>\n",
              "  </thead>\n",
              "  <tbody>\n",
              "    <tr>\n",
              "      <th>0</th>\n",
              "      <td>1</td>\n",
              "      <td>2</td>\n",
              "      <td>4</td>\n",
              "      <td>1112486027</td>\n",
              "    </tr>\n",
              "    <tr>\n",
              "      <th>1</th>\n",
              "      <td>1</td>\n",
              "      <td>2</td>\n",
              "      <td>4</td>\n",
              "      <td>1112486027</td>\n",
              "    </tr>\n",
              "    <tr>\n",
              "      <th>2</th>\n",
              "      <td>1</td>\n",
              "      <td>2</td>\n",
              "      <td>4</td>\n",
              "      <td>1112486027</td>\n",
              "    </tr>\n",
              "    <tr>\n",
              "      <th>3</th>\n",
              "      <td>1</td>\n",
              "      <td>2</td>\n",
              "      <td>4</td>\n",
              "      <td>1112486027</td>\n",
              "    </tr>\n",
              "    <tr>\n",
              "      <th>4</th>\n",
              "      <td>1</td>\n",
              "      <td>29</td>\n",
              "      <td>4</td>\n",
              "      <td>1112484676</td>\n",
              "    </tr>\n",
              "    <tr>\n",
              "      <th>5</th>\n",
              "      <td>1</td>\n",
              "      <td>29</td>\n",
              "      <td>4</td>\n",
              "      <td>1112484676</td>\n",
              "    </tr>\n",
              "    <tr>\n",
              "      <th>6</th>\n",
              "      <td>1</td>\n",
              "      <td>29</td>\n",
              "      <td>4</td>\n",
              "      <td>1112484676</td>\n",
              "    </tr>\n",
              "    <tr>\n",
              "      <th>7</th>\n",
              "      <td>1</td>\n",
              "      <td>29</td>\n",
              "      <td>4</td>\n",
              "      <td>1112484676</td>\n",
              "    </tr>\n",
              "    <tr>\n",
              "      <th>8</th>\n",
              "      <td>1</td>\n",
              "      <td>32</td>\n",
              "      <td>4</td>\n",
              "      <td>1112484819</td>\n",
              "    </tr>\n",
              "    <tr>\n",
              "      <th>9</th>\n",
              "      <td>1</td>\n",
              "      <td>32</td>\n",
              "      <td>4</td>\n",
              "      <td>1112484819</td>\n",
              "    </tr>\n",
              "    <tr>\n",
              "      <th>10</th>\n",
              "      <td>1</td>\n",
              "      <td>32</td>\n",
              "      <td>4</td>\n",
              "      <td>1112484819</td>\n",
              "    </tr>\n",
              "    <tr>\n",
              "      <th>11</th>\n",
              "      <td>1</td>\n",
              "      <td>32</td>\n",
              "      <td>4</td>\n",
              "      <td>1112484819</td>\n",
              "    </tr>\n",
              "    <tr>\n",
              "      <th>12</th>\n",
              "      <td>1</td>\n",
              "      <td>47</td>\n",
              "      <td>4</td>\n",
              "      <td>1112484727</td>\n",
              "    </tr>\n",
              "    <tr>\n",
              "      <th>13</th>\n",
              "      <td>1</td>\n",
              "      <td>47</td>\n",
              "      <td>4</td>\n",
              "      <td>1112484727</td>\n",
              "    </tr>\n",
              "    <tr>\n",
              "      <th>14</th>\n",
              "      <td>1</td>\n",
              "      <td>47</td>\n",
              "      <td>4</td>\n",
              "      <td>1112484727</td>\n",
              "    </tr>\n",
              "  </tbody>\n",
              "</table>\n",
              "</div>"
            ],
            "text/plain": [
              "    userId  movieId  rating   timestamp\n",
              "0        1        2       4  1112486027\n",
              "1        1        2       4  1112486027\n",
              "2        1        2       4  1112486027\n",
              "3        1        2       4  1112486027\n",
              "4        1       29       4  1112484676\n",
              "5        1       29       4  1112484676\n",
              "6        1       29       4  1112484676\n",
              "7        1       29       4  1112484676\n",
              "8        1       32       4  1112484819\n",
              "9        1       32       4  1112484819\n",
              "10       1       32       4  1112484819\n",
              "11       1       32       4  1112484819\n",
              "12       1       47       4  1112484727\n",
              "13       1       47       4  1112484727\n",
              "14       1       47       4  1112484727"
            ]
          },
          "execution_count": 13,
          "metadata": {},
          "output_type": "execute_result"
        }
      ],
      "source": [
        "#to take into account review rating: duplicate each row (so each edge) for a value equal to the rating\n",
        "ratings_df = ratings_df.loc[ratings_df.index.repeat(ratings_df['rating'])].reset_index(drop=True)\n",
        "ratings_df.head(15)"
      ]
    },
    {
      "cell_type": "code",
      "execution_count": 14,
      "metadata": {
        "colab": {
          "base_uri": "https://localhost:8080/"
        },
        "id": "JMGYv83WzSRr",
        "outputId": "ea46d157-5c83-43ed-ae87-1126920d0964"
      },
      "outputs": [
        {
          "name": "stdout",
          "output_type": "stream",
          "text": [
            "Mapping of user IDs to consecutive values:\n",
            "   userId  mappedID\n",
            "0       1         0\n",
            "1       2         1\n",
            "2       3         2\n",
            "3       4         3\n",
            "4       5         4\n",
            "        userId  mappedID\n",
            "138488  138489    138488\n",
            "138489  138490    138489\n",
            "138490  138491    138490\n",
            "138491  138492    138491\n",
            "138492  138493    138492\n",
            "\n",
            "Mapping of movie IDs to consecutive values:\n",
            "   movieId  mappedID\n",
            "0        1         0\n",
            "1        2         1\n",
            "2        3         2\n",
            "3        4         3\n",
            "4        5         4\n",
            "       movieId  mappedID\n",
            "27273   131254     27273\n",
            "27274   131256     27274\n",
            "27275   131258     27275\n",
            "27276   131260     27276\n",
            "27277   131262     27277\n",
            "\n",
            "Final edge indices pointing from users to movies:\n",
            "tensor([[     0,      0,      0,  ..., 138492, 138492, 138492],\n",
            "        [     1,      1,      1,  ...,  14293,  14293,  14293]])\n"
          ]
        }
      ],
      "source": [
        "# Create a mapping from unique user indices to range [0, num_user_nodes):\n",
        "unique_user_id = ratings_df['userId'].unique()\n",
        "unique_user_id = pd.DataFrame(data={\n",
        "    'userId': unique_user_id,\n",
        "    'mappedID': pd.RangeIndex(len(unique_user_id)),#because userId are not consecutive values, there are jumps. Same for movies\n",
        "})\n",
        "print(\"Mapping of user IDs to consecutive values:\")\n",
        "print(unique_user_id.head())\n",
        "print(unique_user_id.tail())\n",
        "print()\n",
        "# Create a mapping from unique movie indices to range [0, num_movie_nodes):\n",
        "unique_movie_id = ratings_df['movieId'].unique()\n",
        "unique_movie_id = pd.DataFrame(data={\n",
        "    'movieId': movies_df.index,\n",
        "    'mappedID': pd.RangeIndex(len(movies_df)),\n",
        "})\n",
        "print(\"Mapping of movie IDs to consecutive values:\")\n",
        "print(unique_movie_id.head())\n",
        "print(unique_movie_id.tail())\n",
        "\n",
        "# Perform merge to obtain the edges from users and movies:\n",
        "ratings_user_id = pd.merge(ratings_df['userId'], unique_user_id, left_on='userId', right_on='userId', how='left')\n",
        "ratings_user_id = torch.from_numpy(ratings_user_id['mappedID'].values)#create tensor of user ids\n",
        "ratings_movie_id = pd.merge(ratings_df['movieId'], unique_movie_id, left_on='movieId', right_on='movieId', how='left')\n",
        "ratings_movie_id = torch.from_numpy(ratings_movie_id['mappedID'].values)#create tensor of movies ids\n",
        "\n",
        "#create tensor of edges (userId -> movieId)\n",
        "edge_index_user_to_movie = torch.stack([ratings_user_id, ratings_movie_id], dim=0)#joint the 2 id tensors into a single tensor of size (2, #edges)\n",
        "\n",
        "print()\n",
        "print(\"Final edge indices pointing from users to movies:\")\n",
        "print(edge_index_user_to_movie)"
      ]
    },
    {
      "cell_type": "code",
      "execution_count": 15,
      "metadata": {
        "colab": {
          "base_uri": "https://localhost:8080/"
        },
        "id": "rj9bkFMLf60W",
        "outputId": "72674d64-4576-4385-d103-c9f2eed4b287"
      },
      "outputs": [
        {
          "name": "stdout",
          "output_type": "stream",
          "text": [
            "6515\n",
            "1230\n"
          ]
        }
      ],
      "source": [
        "#define functions to get original movie id from the mapped one and viceversa\n",
        "def get_original_node(index):\n",
        "  row = unique_movie_id[unique_movie_id['mappedID'] == index]\n",
        "  return row['movieId'].values[0]\n",
        "\n",
        "def get_mapped_node(index):\n",
        "  row = unique_movie_id[unique_movie_id['movieId'] == index]\n",
        "  return row['mappedID'].values[0]\n",
        "\n",
        "print(get_original_node(6405))\n",
        "print(get_mapped_node(1258))"
      ]
    },
    {
      "cell_type": "code",
      "execution_count": 16,
      "metadata": {
        "colab": {
          "base_uri": "https://localhost:8080/"
        },
        "id": "I_63--974srt",
        "outputId": "3a830a51-b89c-4e70-c2df-ccb726857f77"
      },
      "outputs": [
        {
          "name": "stdout",
          "output_type": "stream",
          "text": [
            "HeteroData(\n",
            "  user={ node_id=[138493] },\n",
            "  movie={\n",
            "    node_id=[27278],\n",
            "    x=[27278, 20],\n",
            "  },\n",
            "  (user, rates, movie)={ edge_index=[2, 73079876] },\n",
            "  (movie, rev_rates, user)={ edge_index=[2, 73079876] }\n",
            ")\n"
          ]
        }
      ],
      "source": [
        "#let's create the graph\n",
        "from torch_geometric.data import HeteroData\n",
        "import torch_geometric.transforms as T\n",
        "\n",
        "data = HeteroData()\n",
        "\n",
        "# Save node indices:\n",
        "data[\"user\"].node_id = torch.arange(len(unique_user_id))\n",
        "data[\"movie\"].node_id = torch.arange(len(movies_df))\n",
        "\n",
        "# Add the node features and edge indices:\n",
        "data[\"movie\"].x = movie_feat\n",
        "data[\"user\", \"rates\", \"movie\"].edge_index = edge_index_user_to_movie  #edge_index = tensor (2,#edges) with for each edge (mapped) user id and (mapped) movie id\n",
        "\n",
        "# We also need to make sure to add the reverse edges from movies to users\n",
        "# in order to let a GNN be able to pass messages in both directions.\n",
        "# We can leverage the `T.ToUndirected()` transform for this from PyG:\n",
        "data = T.ToUndirected()(data)\n",
        "\n",
        "print(data)\n"
      ]
    },
    {
      "cell_type": "code",
      "execution_count": 17,
      "metadata": {
        "id": "rwgNwoa26Eja"
      },
      "outputs": [
        {
          "name": "stdout",
          "output_type": "stream",
          "text": [
            "Training data:\n",
            "--------------\n",
            "HeteroData(\n",
            "  user={ node_id=[138493] },\n",
            "  movie={\n",
            "    node_id=[27278],\n",
            "    x=[27278, 20],\n",
            "  },\n",
            "  (user, rates, movie)={\n",
            "    edge_index=[2, 40924732],\n",
            "    edge_label=[17539170],\n",
            "    edge_label_index=[2, 17539170],\n",
            "  },\n",
            "  (movie, rev_rates, user)={ edge_index=[2, 40924732] }\n",
            ")\n",
            "\n",
            "User IDs:\n",
            "tensor([ 55650,  50901,   3062, 109294,  25327, 103676,  62811,  43782,  80461,\n",
            "         83709])\n",
            "Movie IDs:\n",
            "tensor([ 2786,    80,  3027,  1582,   293,  7041, 12717,  4132,  3884, 10286])\n",
            "Edges labels:\n",
            "tensor([1., 1., 1., 1., 1., 1., 1., 1., 1., 1.])\n",
            "tensor([1., 1., 1., 1., 1., 1., 1., 1., 1., 1.])\n",
            "Edges labels indices:\n",
            "tensor([116498,  12157,  43383,  33410,  98466,  28512,  86933,  56158,  61647,\n",
            "        116530])\n",
            "tensor([12002,  2946,   220,  1839,  2907,  1195,   108,  2486,  2718,  2021])\n",
            "\n",
            "Validation data:\n",
            "-----------------\n",
            "HeteroData(\n",
            "  user={ node_id=[138493] },\n",
            "  movie={\n",
            "    node_id=[27278],\n",
            "    x=[27278, 20],\n",
            "  },\n",
            "  (user, rates, movie)={\n",
            "    edge_index=[2, 58463902],\n",
            "    edge_label=[21923961],\n",
            "    edge_label_index=[2, 21923961],\n",
            "  },\n",
            "  (movie, rev_rates, user)={ edge_index=[2, 58463902] }\n",
            ")\n",
            "\n",
            "Test data:\n",
            "-----------\n",
            "HeteroData(\n",
            "  user={ node_id=[138493] },\n",
            "  movie={\n",
            "    node_id=[27278],\n",
            "    x=[27278, 20],\n",
            "  },\n",
            "  (user, rates, movie)={\n",
            "    edge_index=[2, 65771889],\n",
            "    edge_label=[21923961],\n",
            "    edge_label_index=[2, 21923961],\n",
            "  },\n",
            "  (movie, rev_rates, user)={ edge_index=[2, 65771889] }\n",
            ")\n"
          ]
        }
      ],
      "source": [
        "# training (80%), validation (10%), and testing edges (10%).\n",
        "# Across the training edges, we use 70% of edges for message passing, and 30% of edges for supervision.\n",
        "transform = T.RandomLinkSplit(\n",
        "    num_val=0.1,#10% validation set\n",
        "    num_test=0.1,#10% test set\n",
        "    disjoint_train_ratio=0.3,#30% disjoint training set\n",
        "    neg_sampling_ratio=2.0,#negative samples are double of positive samples\n",
        "    add_negative_train_samples=False,\n",
        "    edge_types=(\"user\", \"rates\", \"movie\"),\n",
        "    rev_edge_types=(\"movie\", \"rev_rates\", \"user\"),\n",
        ")\n",
        "\n",
        "# edge_index (edges used for message passing) + edge_label_index (edges used for supervision) = training_set = 80%\n",
        "\n",
        "train_data, val_data, test_data = transform(data)\n",
        "print(\"Training data:\")\n",
        "print(\"--------------\")\n",
        "print(train_data)\n",
        "print()\n",
        "print(\"User IDs:\")\n",
        "print(train_data[\"user\", \"rates\", \"movie\"].edge_index[0][:10])\n",
        "print(\"Movie IDs:\")\n",
        "print(train_data[\"user\", \"rates\", \"movie\"].edge_index[1][:10])\n",
        "print(\"Edges labels:\")\n",
        "print(train_data[\"user\", \"rates\", \"movie\"].edge_label[:10])\n",
        "print(train_data[\"user\", \"rates\", \"movie\"].edge_label[-10:]) #only positive labels (1)\n",
        "print(\"Edges labels indices:\")\n",
        "print(train_data[\"user\", \"rates\", \"movie\"].edge_label_index[0][:10])\n",
        "print(train_data[\"user\", \"rates\", \"movie\"].edge_label_index[1][:10])\n",
        "\n",
        "print()\n",
        "print(\"Validation data:\")\n",
        "print(\"-----------------\")\n",
        "print(val_data)\n",
        "print()\n",
        "print(\"Test data:\")\n",
        "print(\"-----------\")\n",
        "print(test_data)"
      ]
    },
    {
      "cell_type": "code",
      "execution_count": 18,
      "metadata": {
        "id": "Ogh615ka9I2c"
      },
      "outputs": [
        {
          "name": "stdout",
          "output_type": "stream",
          "text": [
            "Sampled mini-batch:\n",
            "===================\n",
            "HeteroData(\n",
            "  user={\n",
            "    node_id=[20392],\n",
            "    n_id=[20392],\n",
            "  },\n",
            "  movie={\n",
            "    node_id=[7312],\n",
            "    x=[7312, 20],\n",
            "    n_id=[7312],\n",
            "  },\n",
            "  (user, rates, movie)={\n",
            "    edge_index=[2, 29416],\n",
            "    edge_label=[384],\n",
            "    edge_label_index=[2, 384],\n",
            "    e_id=[29416],\n",
            "    input_id=[128],\n",
            "  },\n",
            "  (movie, rev_rates, user)={\n",
            "    edge_index=[2, 50280],\n",
            "    e_id=[50280],\n",
            "  }\n",
            ")\n"
          ]
        }
      ],
      "source": [
        "#creation of mini batches\n",
        "from torch_geometric.loader import LinkNeighborLoader\n",
        "\n",
        "#The data loader will add the following attributes to the returned mini-batch:\n",
        "#-n_id The global node index for every sampled node\n",
        "#-e_id The global edge index for every sampled edge\n",
        "#-input_id: The global index of the edge_label_index\n",
        "#-num_sampled_nodes: The number of sampled nodes in each hop\n",
        "#-num_sampled_edges: The number of sampled edges in each hop\n",
        "\n",
        "# Define seed edges:\n",
        "edge_label_index = train_data[\"user\", \"rates\", \"movie\"].edge_label_index  #Size([2, 24201])\n",
        "edge_label = train_data[\"user\", \"rates\", \"movie\"].edge_label  #Size([24201])\n",
        "\n",
        "train_loader = LinkNeighborLoader(\n",
        "    data=train_data,\n",
        "    num_neighbors=[20, 10],#The number of neighbors to sample for each node in each iteration (20 the first, 10 the second)\n",
        "    neg_sampling_ratio=2.0,\n",
        "    edge_label_index=((\"user\", \"rates\", \"movie\"), edge_label_index),\n",
        "    edge_label=edge_label,#The labels of edge indices for which neighbors are sampled\n",
        "    batch_size=128,\n",
        "    shuffle=True,\n",
        ")\n",
        "\n",
        "# Inspect a sample:\n",
        "sampled_data = next(iter(train_loader))\n",
        "\n",
        "print(\"Sampled mini-batch:\")\n",
        "print(\"===================\")\n",
        "print(sampled_data)\n",
        "\n",
        "assert sampled_data[\"user\", \"rates\", \"movie\"].edge_label_index.size(1) == 3 * 128\n",
        "assert sampled_data[\"user\", \"rates\", \"movie\"].edge_label.min() == 0\n",
        "assert sampled_data[\"user\", \"rates\", \"movie\"].edge_label.max() == 1"
      ]
    },
    {
      "cell_type": "code",
      "execution_count": 19,
      "metadata": {
        "id": "ebsFf-Pr_4LF"
      },
      "outputs": [
        {
          "name": "stdout",
          "output_type": "stream",
          "text": [
            "Model(\n",
            "  (movie_lin): Linear(in_features=20, out_features=64, bias=True)\n",
            "  (user_emb): Embedding(138493, 64)\n",
            "  (movie_emb): Embedding(27278, 64)\n",
            "  (gnn): GraphModule(\n",
            "    (conv1): ModuleDict(\n",
            "      (user__rates__movie): SAGEConv(64, 64, aggr=mean)\n",
            "      (movie__rev_rates__user): SAGEConv(64, 64, aggr=mean)\n",
            "    )\n",
            "    (conv2): ModuleDict(\n",
            "      (user__rates__movie): SAGEConv(64, 64, aggr=mean)\n",
            "      (movie__rev_rates__user): SAGEConv(64, 64, aggr=mean)\n",
            "    )\n",
            "  )\n",
            "  (classifier): Classifier()\n",
            ")\n"
          ]
        },
        {
          "name": "stderr",
          "output_type": "stream",
          "text": [
            "c:\\Users\\matte\\AppData\\Local\\Programs\\Python\\Python310\\lib\\site-packages\\torch\\overrides.py:110: UserWarning: 'has_cuda' is deprecated, please use 'torch.backends.cuda.is_built()'\n",
            "  torch.has_cuda,\n",
            "c:\\Users\\matte\\AppData\\Local\\Programs\\Python\\Python310\\lib\\site-packages\\torch\\overrides.py:111: UserWarning: 'has_cudnn' is deprecated, please use 'torch.backends.cudnn.is_available()'\n",
            "  torch.has_cudnn,\n",
            "c:\\Users\\matte\\AppData\\Local\\Programs\\Python\\Python310\\lib\\site-packages\\torch\\overrides.py:117: UserWarning: 'has_mps' is deprecated, please use 'torch.backends.mps.is_built()'\n",
            "  torch.has_mps,\n",
            "c:\\Users\\matte\\AppData\\Local\\Programs\\Python\\Python310\\lib\\site-packages\\torch\\overrides.py:118: UserWarning: 'has_mkldnn' is deprecated, please use 'torch.backends.mkldnn.is_available()'\n",
            "  torch.has_mkldnn,\n"
          ]
        }
      ],
      "source": [
        "from torch_geometric.nn import SAGEConv, to_hetero\n",
        "import torch.nn.functional as F\n",
        "\n",
        "class GNN(torch.nn.Module):\n",
        "    def __init__(self, hidden_channels):\n",
        "        super().__init__()\n",
        "\n",
        "        self.conv1 = SAGEConv(hidden_channels, hidden_channels)\n",
        "        self.conv2 = SAGEConv(hidden_channels, hidden_channels)\n",
        "\n",
        "    def forward(self, x: Tensor, edge_index: Tensor) -> Tensor:\n",
        "        x = F.relu(self.conv1(x, edge_index))\n",
        "        x = self.conv2(x, edge_index)\n",
        "        return x\n",
        "\n",
        "# Our final classifier applies the dot-product between source and destination\n",
        "# node embeddings to derive edge-level predictions: (Combines user and movie node embeddings to create edge-level representations)\n",
        "class Classifier(torch.nn.Module):\n",
        "    def forward(self, x_user: Tensor, x_movie: Tensor, edge_label_index: Tensor) -> Tensor:\n",
        "        # Convert node embeddings to edge-level representations:\n",
        "        edge_feat_user = x_user[edge_label_index[0]]\n",
        "        edge_feat_movie = x_movie[edge_label_index[1]]\n",
        "\n",
        "        # Apply dot-product to get a prediction per supervision edge:\n",
        "        return (edge_feat_user * edge_feat_movie).sum(dim=-1)\n",
        "\n",
        "\n",
        "class Model(torch.nn.Module):\n",
        "    def __init__(self, hidden_channels):\n",
        "        super().__init__()\n",
        "        # Since the dataset does not come with rich features, we also learn two\n",
        "        # embedding matrices for users and movies:\n",
        "        self.movie_lin = torch.nn.Linear(20, hidden_channels)  #(movie_lin): Linear(in_features=20, out_features=64, bias=True)\n",
        "        self.user_emb = torch.nn.Embedding(data[\"user\"].num_nodes, hidden_channels)#learn node embedding for users\n",
        "        self.movie_emb = torch.nn.Embedding(data[\"movie\"].num_nodes, hidden_channels)#learn node embedding for movies\n",
        "\n",
        "        # Instantiate homogeneous GNN:\n",
        "        self.gnn = GNN(hidden_channels)\n",
        "\n",
        "        # Convert GNN model into a heterogeneous variant (we have user and movie types nodes):\n",
        "        self.gnn = to_hetero(self.gnn, metadata=data.metadata())\n",
        "\n",
        "        self.classifier = Classifier()\n",
        "\n",
        "    def forward(self, data: HeteroData) -> Tensor:\n",
        "        x_dict = {\n",
        "          \"user\": self.user_emb(data[\"user\"].node_id),#just learned embeddings\n",
        "          \"movie\": self.movie_lin(data[\"movie\"].x) + self.movie_emb(data[\"movie\"].node_id),#movie genres + learned embeddings\n",
        "        }\n",
        "\n",
        "        # `x_dict` holds feature matrices of all node types\n",
        "        # `edge_index_dict` holds all edge indices of all edge types\n",
        "        x_dict = self.gnn(x_dict, data.edge_index_dict)\n",
        "        pred = self.classifier(\n",
        "            x_dict[\"user\"],\n",
        "            x_dict[\"movie\"],\n",
        "            data[\"user\", \"rates\", \"movie\"].edge_label_index,\n",
        "        )\n",
        "\n",
        "        return pred\n",
        "\n",
        "\n",
        "model = Model(hidden_channels=64)\n",
        "\n",
        "print(model)"
      ]
    },
    {
      "cell_type": "code",
      "execution_count": 20,
      "metadata": {
        "id": "OqLuXEcrAMru"
      },
      "outputs": [
        {
          "name": "stdout",
          "output_type": "stream",
          "text": [
            "Device: 'cuda'\n"
          ]
        },
        {
          "name": "stderr",
          "output_type": "stream",
          "text": [
            "100%|██████████| 137025/137025 [10:27:26<00:00,  3.64it/s] \n"
          ]
        },
        {
          "name": "stdout",
          "output_type": "stream",
          "text": [
            "Epoch: 001, Loss: 0.1481\n"
          ]
        },
        {
          "name": "stderr",
          "output_type": "stream",
          "text": [
            "100%|██████████| 137025/137025 [10:19:15<00:00,  3.69it/s] \n"
          ]
        },
        {
          "name": "stdout",
          "output_type": "stream",
          "text": [
            "Epoch: 002, Loss: 0.1293\n"
          ]
        },
        {
          "name": "stderr",
          "output_type": "stream",
          "text": [
            "100%|██████████| 137025/137025 [10:30:18<00:00,  3.62it/s] \n"
          ]
        },
        {
          "name": "stdout",
          "output_type": "stream",
          "text": [
            "Epoch: 003, Loss: 0.1260\n"
          ]
        },
        {
          "name": "stderr",
          "output_type": "stream",
          "text": [
            "100%|██████████| 137025/137025 [10:38:44<00:00,  3.58it/s] \n"
          ]
        },
        {
          "name": "stdout",
          "output_type": "stream",
          "text": [
            "Epoch: 004, Loss: 0.1241\n"
          ]
        },
        {
          "name": "stderr",
          "output_type": "stream",
          "text": [
            "100%|██████████| 137025/137025 [10:09:38<00:00,  3.75it/s] "
          ]
        },
        {
          "name": "stdout",
          "output_type": "stream",
          "text": [
            "Epoch: 005, Loss: 0.1231\n"
          ]
        },
        {
          "name": "stderr",
          "output_type": "stream",
          "text": [
            "\n"
          ]
        }
      ],
      "source": [
        "#train model\n",
        "import tqdm\n",
        "import torch.nn.functional as F\n",
        "\n",
        "device = torch.device('cuda' if torch.cuda.is_available() else 'cpu')\n",
        "print(f\"Device: '{device}'\")\n",
        "\n",
        "model = model.to(device)\n",
        "optimizer = torch.optim.Adam(model.parameters(), lr=0.001)\n",
        "\n",
        "for epoch in range(1, 6):#reduce to 6 for 10/20m dataset, 11 for small\n",
        "    total_loss = total_examples = 0\n",
        "    for sampled_data in tqdm.tqdm(train_loader):#iterating over mini-batches\n",
        "        optimizer.zero_grad()\n",
        "\n",
        "        sampled_data.to(device)\n",
        "        pred = model(sampled_data)\n",
        "\n",
        "        ground_truth = sampled_data[\"user\", \"rates\", \"movie\"].edge_label\n",
        "        loss = F.binary_cross_entropy_with_logits(pred, ground_truth)\n",
        "\n",
        "        loss.backward()\n",
        "        optimizer.step()\n",
        "        total_loss += float(loss) * pred.numel()\n",
        "        total_examples += pred.numel()\n",
        "    print(f\"Epoch: {epoch:03d}, Loss: {total_loss / total_examples:.4f}\")"
      ]
    },
    {
      "cell_type": "code",
      "execution_count": 21,
      "metadata": {
        "id": "ZIrRn9YoNllj"
      },
      "outputs": [
        {
          "name": "stdout",
          "output_type": "stream",
          "text": [
            "Sampled mini-batch:\n",
            "===================\n",
            "HeteroData(\n",
            "  user={\n",
            "    node_id=[21500],\n",
            "    n_id=[21500],\n",
            "  },\n",
            "  movie={\n",
            "    node_id=[6917],\n",
            "    x=[6917, 20],\n",
            "    n_id=[6917],\n",
            "  },\n",
            "  (user, rates, movie)={\n",
            "    edge_index=[2, 30526],\n",
            "    edge_label=[384],\n",
            "    edge_label_index=[2, 384],\n",
            "    e_id=[30526],\n",
            "    input_id=[384],\n",
            "  },\n",
            "  (movie, rev_rates, user)={\n",
            "    edge_index=[2, 67340],\n",
            "    e_id=[67340],\n",
            "  }\n",
            ")\n"
          ]
        }
      ],
      "source": [
        "# Define the validation seed edges:\n",
        "edge_label_index = val_data[\"user\", \"rates\", \"movie\"].edge_label_index\n",
        "edge_label = val_data[\"user\", \"rates\", \"movie\"].edge_label\n",
        "\n",
        "val_loader = LinkNeighborLoader(#creates mini-batches for validation set\n",
        "    data=val_data,\n",
        "    num_neighbors=[20, 10],\n",
        "    edge_label_index=((\"user\", \"rates\", \"movie\"), edge_label_index),\n",
        "    edge_label=edge_label,\n",
        "    batch_size=3 * 128,\n",
        "    shuffle=False,\n",
        ")\n",
        "\n",
        "sampled_data = next(iter(val_loader))\n",
        "\n",
        "print(\"Sampled mini-batch:\")\n",
        "print(\"===================\")\n",
        "print(sampled_data)"
      ]
    },
    {
      "cell_type": "code",
      "execution_count": 22,
      "metadata": {
        "id": "Vi25Z7lFPPjc"
      },
      "outputs": [
        {
          "name": "stderr",
          "output_type": "stream",
          "text": [
            "100%|██████████| 57094/57094 [3:10:00<00:00,  5.01it/s]  \n"
          ]
        },
        {
          "name": "stdout",
          "output_type": "stream",
          "text": [
            "\n",
            "Validation AUC: 0.9904\n",
            "\n",
            "Predictions for existing edges:\n",
            "[ 1.8283607   4.8638716   4.3523006   2.100475   -0.8926013   3.6035557\n",
            "  1.0214763   4.028143   -3.0974872   0.9951333   2.3888316   3.675375\n",
            "  3.8916707   3.503798    2.5840638  -1.0333385   5.401789    2.6138124\n",
            "  1.5503128   3.8972821   3.1742427   4.146941    4.819251    2.0130847\n",
            "  2.3147137   4.1329975  -0.73247916  4.4110785   3.1000247   2.8819873 ]\n",
            "[1. 1. 1. 1. 1. 1. 1. 1. 1. 1. 1. 1. 1. 1. 1. 1. 1. 1. 1. 1. 1. 1. 1. 1.\n",
            " 1. 1. 1. 1. 1. 1.]\n",
            "Predictions for non-existing edges:\n",
            "[-15.348266   -2.552812  -11.493481  -10.083277    1.3007729  -7.6243696\n",
            "  -6.050192  -13.467011   -4.9159293  -8.478502  -13.8862915 -12.308343\n",
            " -21.219364  -10.69959   -53.86174   -23.64251    -6.807402  -16.701387\n",
            " -24.443844  -15.089021   -3.8114989  -5.240264   -7.8093224  -3.2141438\n",
            "  -0.3316326   1.6795222  -3.9980712   2.6771793 -11.614485   -2.4008756]\n",
            "[0. 0. 0. 0. 0. 0. 0. 0. 0. 0. 0. 0. 0. 0. 0. 0. 0. 0. 0. 0. 0. 0. 0. 0.\n",
            " 0. 0. 0. 0. 0. 0.]\n"
          ]
        }
      ],
      "source": [
        "from sklearn.metrics import roc_auc_score\n",
        "\n",
        "preds = []\n",
        "ground_truths = []\n",
        "for sampled_data in tqdm.tqdm(val_loader):\n",
        "    with torch.no_grad():\n",
        "        sampled_data.to(device)\n",
        "        preds.append(model(sampled_data))\n",
        "        ground_truths.append(sampled_data[\"user\", \"rates\", \"movie\"].edge_label)\n",
        "\n",
        "pred = torch.cat(preds, dim=0).cpu().numpy()\n",
        "ground_truth = torch.cat(ground_truths, dim=0).cpu().numpy()\n",
        "auc = roc_auc_score(ground_truth, pred)\n",
        "print()\n",
        "print(f\"Validation AUC: {auc:.4f}\")\n",
        "print()\n",
        "print(\"Predictions for existing edges:\")\n",
        "print(pred[:30])\n",
        "print(ground_truth[:30])\n",
        "print(\"Predictions for non-existing edges:\")\n",
        "print(pred[-30:])\n",
        "print(ground_truth[-30:])"
      ]
    },
    {
      "cell_type": "code",
      "execution_count": 80,
      "metadata": {
        "id": "YKGb27j_Y2tz"
      },
      "outputs": [],
      "source": [
        "#test our model prediction for a specific user:\n",
        "user_index = 456  #value from 1 to 610 for the 100k nodes dataset"
      ]
    },
    {
      "cell_type": "code",
      "execution_count": 81,
      "metadata": {
        "id": "OepDsWVqR5Rv"
      },
      "outputs": [
        {
          "name": "stdout",
          "output_type": "stream",
          "text": [
            "tensor([[  455,   455,   455,  ...,   455,   455,   455],\n",
            "        [    0,     1,     2,  ..., 27275, 27276, 27277]])\n"
          ]
        },
        {
          "name": "stderr",
          "output_type": "stream",
          "text": [
            "100%|██████████| 72/72 [00:06<00:00, 10.84it/s]"
          ]
        },
        {
          "name": "stdout",
          "output_type": "stream",
          "text": [
            "\n"
          ]
        },
        {
          "name": "stderr",
          "output_type": "stream",
          "text": [
            "\n"
          ]
        }
      ],
      "source": [
        "user_index = user_index - 1  #due to the mapping (mapped used ids start from 0)\n",
        "user_ids = torch.full((data[\"movie\"].num_nodes,), user_index)\n",
        "movie_ids = torch.tensor(unique_movie_id['mappedID'])\n",
        "edge_label_index = torch.stack([user_ids, movie_ids], dim=0)#joint the 2 id tensors into a single tensor of size (2, #edges)\n",
        "\n",
        "print(edge_label_index)  #tensor with all possible movies that our user can see\n",
        "\n",
        "val_loader = LinkNeighborLoader(#creates mini-batches for validation set\n",
        "    data=data,\n",
        "    num_neighbors=[20, 10],\n",
        "    edge_label_index=((\"user\", \"rates\", \"movie\"), edge_label_index),\n",
        "    batch_size=3 * 128,\n",
        "    shuffle=False,\n",
        ")\n",
        "\n",
        "preds = []\n",
        "for sampled_data in tqdm.tqdm(val_loader):\n",
        "    with torch.no_grad():\n",
        "        sampled_data.to(device)\n",
        "        preds.append(model(sampled_data))\n",
        "\n",
        "pred = torch.cat(preds, dim=0).cpu().numpy()\n",
        "\n",
        "print()"
      ]
    },
    {
      "cell_type": "code",
      "execution_count": 82,
      "metadata": {
        "id": "Pk9OEpu9RHhj"
      },
      "outputs": [],
      "source": [
        "def get_max(): #function that extract max probability from probabilities array\n",
        "  max = pred[0]\n",
        "  maxIndex = 0\n",
        "  for i in range(len(pred)):\n",
        "      if pred[i] > max:\n",
        "          max = pred[i]\n",
        "          maxIndex = i\n",
        "  print(get_original_node(maxIndex))#already seen movies, the last is the not-seen one\n",
        "  return maxIndex"
      ]
    },
    {
      "cell_type": "code",
      "execution_count": 83,
      "metadata": {
        "id": "Fc88PJT3XA0P"
      },
      "outputs": [],
      "source": [
        "user_index = user_index + 1  #reverse mapping"
      ]
    },
    {
      "cell_type": "code",
      "execution_count": 84,
      "metadata": {
        "id": "rRpy1shJS8iS"
      },
      "outputs": [
        {
          "name": "stdout",
          "output_type": "stream",
          "text": [
            "1885\n",
            "Most similar not-seen movie for user 456 is 1885\n"
          ]
        }
      ],
      "source": [
        "#let's find the first most similar movie not already seen\n",
        "most_similar_movie = get_max()\n",
        "row = ratings_df[(ratings_df['userId'] == user_index) & (ratings_df['movieId'] == get_original_node(most_similar_movie))]\n",
        "while not row.empty: #repeat untill find a not-seen movie\n",
        "  pred[most_similar_movie] = -100\n",
        "  most_similar_movie = get_max()\n",
        "  row = ratings_df[(ratings_df['userId'] == user_index) & (ratings_df['movieId'] == get_original_node(most_similar_movie))]\n",
        "print(\"Most similar not-seen movie for user {} is {}\".format(user_index, get_original_node(most_similar_movie)))"
      ]
    },
    {
      "cell_type": "code",
      "execution_count": 85,
      "metadata": {
        "id": "JNgINENrZPZi"
      },
      "outputs": [
        {
          "name": "stdout",
          "output_type": "stream",
          "text": [
            "Movies already seen by user 456:\n"
          ]
        },
        {
          "data": {
            "text/html": [
              "<div>\n",
              "<style scoped>\n",
              "    .dataframe tbody tr th:only-of-type {\n",
              "        vertical-align: middle;\n",
              "    }\n",
              "\n",
              "    .dataframe tbody tr th {\n",
              "        vertical-align: top;\n",
              "    }\n",
              "\n",
              "    .dataframe thead th {\n",
              "        text-align: right;\n",
              "    }\n",
              "</style>\n",
              "<table border=\"1\" class=\"dataframe\">\n",
              "  <thead>\n",
              "    <tr style=\"text-align: right;\">\n",
              "      <th></th>\n",
              "      <th>rating</th>\n",
              "      <th>title</th>\n",
              "      <th>genres</th>\n",
              "    </tr>\n",
              "  </thead>\n",
              "  <tbody>\n",
              "    <tr>\n",
              "      <th>0</th>\n",
              "      <td>3</td>\n",
              "      <td>Margaret's Museum (1995)</td>\n",
              "      <td>Drama</td>\n",
              "    </tr>\n",
              "    <tr>\n",
              "      <th>3</th>\n",
              "      <td>4</td>\n",
              "      <td>Beauty of the Day (Belle de jour) (1967)</td>\n",
              "      <td>Drama</td>\n",
              "    </tr>\n",
              "    <tr>\n",
              "      <th>7</th>\n",
              "      <td>4</td>\n",
              "      <td>Like Water for Chocolate (Como agua para choco...</td>\n",
              "      <td>Drama|Fantasy|Romance</td>\n",
              "    </tr>\n",
              "    <tr>\n",
              "      <th>11</th>\n",
              "      <td>5</td>\n",
              "      <td>Pulp Fiction (1994)</td>\n",
              "      <td>Comedy|Crime|Drama|Thriller</td>\n",
              "    </tr>\n",
              "    <tr>\n",
              "      <th>16</th>\n",
              "      <td>3</td>\n",
              "      <td>Crow, The (1994)</td>\n",
              "      <td>Action|Crime|Fantasy|Thriller</td>\n",
              "    </tr>\n",
              "    <tr>\n",
              "      <th>...</th>\n",
              "      <td>...</td>\n",
              "      <td>...</td>\n",
              "      <td>...</td>\n",
              "    </tr>\n",
              "    <tr>\n",
              "      <th>362</th>\n",
              "      <td>4</td>\n",
              "      <td>Grey Zone, The (2001)</td>\n",
              "      <td>Drama</td>\n",
              "    </tr>\n",
              "    <tr>\n",
              "      <th>366</th>\n",
              "      <td>3</td>\n",
              "      <td>This Is Elvis (1981)</td>\n",
              "      <td>Documentary|Drama|Musical</td>\n",
              "    </tr>\n",
              "    <tr>\n",
              "      <th>369</th>\n",
              "      <td>3</td>\n",
              "      <td>Personal Velocity (2002)</td>\n",
              "      <td>Drama</td>\n",
              "    </tr>\n",
              "    <tr>\n",
              "      <th>372</th>\n",
              "      <td>2</td>\n",
              "      <td>Analyze That (2002)</td>\n",
              "      <td>Comedy|Crime</td>\n",
              "    </tr>\n",
              "    <tr>\n",
              "      <th>374</th>\n",
              "      <td>3</td>\n",
              "      <td>Man Who Fell to Earth, The (1976)</td>\n",
              "      <td>Drama|Sci-Fi</td>\n",
              "    </tr>\n",
              "  </tbody>\n",
              "</table>\n",
              "<p>117 rows × 3 columns</p>\n",
              "</div>"
            ],
            "text/plain": [
              "     rating                                              title  \\\n",
              "0         3                           Margaret's Museum (1995)   \n",
              "3         4           Beauty of the Day (Belle de jour) (1967)   \n",
              "7         4  Like Water for Chocolate (Como agua para choco...   \n",
              "11        5                                Pulp Fiction (1994)   \n",
              "16        3                                   Crow, The (1994)   \n",
              "..      ...                                                ...   \n",
              "362       4                              Grey Zone, The (2001)   \n",
              "366       3                               This Is Elvis (1981)   \n",
              "369       3                           Personal Velocity (2002)   \n",
              "372       2                                Analyze That (2002)   \n",
              "374       3                  Man Who Fell to Earth, The (1976)   \n",
              "\n",
              "                            genres  \n",
              "0                            Drama  \n",
              "3                            Drama  \n",
              "7            Drama|Fantasy|Romance  \n",
              "11     Comedy|Crime|Drama|Thriller  \n",
              "16   Action|Crime|Fantasy|Thriller  \n",
              "..                             ...  \n",
              "362                          Drama  \n",
              "366      Documentary|Drama|Musical  \n",
              "369                          Drama  \n",
              "372                   Comedy|Crime  \n",
              "374                   Drama|Sci-Fi  \n",
              "\n",
              "[117 rows x 3 columns]"
            ]
          },
          "execution_count": 85,
          "metadata": {},
          "output_type": "execute_result"
        }
      ],
      "source": [
        "#let's show the movies that our user has seen\n",
        "print(\"Movies already seen by user {}:\".format(user_index))\n",
        "result_df = ratings_df[ratings_df['userId'] == user_index].merge(movies_df, on='movieId', how='inner')\n",
        "unique_movies = result_df.drop_duplicates(subset=['movieId'])\n",
        "unique_movies[['rating','title','genres']]"
      ]
    },
    {
      "cell_type": "code",
      "execution_count": 86,
      "metadata": {
        "id": "WiFgApbbw2fV"
      },
      "outputs": [
        {
          "data": {
            "image/png": "[encoded data removed]",
            "text/plain": [
              "<Figure size 1200x600 with 1 Axes>"
            ]
          },
          "metadata": {},
          "output_type": "display_data"
        }
      ],
      "source": [
        "#let's show user's favourite genres to compare with our prediction\n",
        "high_rated_movies = unique_movies[unique_movies['rating'].isin([4, 5])]#only the ones reviewed at list 4 by our user\n",
        "\n",
        "genres = high_rated_movies['genres'].str.get_dummies('|')\n",
        "# Calculate the number of occurrences of each genre\n",
        "genre_counts = genres.sum()\n",
        "# Sort genres by their occurrence in descending order\n",
        "sorted_genres = genre_counts.sort_values(ascending=False)\n",
        "\n",
        "plt.figure(figsize=(12, 6))\n",
        "sorted_genres.plot(kind='bar', color='skyblue')\n",
        "plt.title('Top Movie Genres')\n",
        "plt.xlabel('Genre')\n",
        "plt.ylabel('Number of Occurrences')\n",
        "plt.xticks(rotation=45, ha='right')\n",
        "plt.show()"
      ]
    },
    {
      "cell_type": "code",
      "execution_count": 87,
      "metadata": {
        "id": "f8cTOEv2Zpr-"
      },
      "outputs": [
        {
          "name": "stdout",
          "output_type": "stream",
          "text": [
            "Recommended movie for user 456:\n",
            "'Opposite of Sex, The (1998)'\n",
            "It's genres are:\n",
            "['Comedy|Drama|Romance']\n"
          ]
        }
      ],
      "source": [
        "#let's print our prediction\n",
        "print(\"Recommended movie for user {}:\".format(user_index))\n",
        "print(\"'{}'\".format(movies_df[movies_df.index == get_original_node(most_similar_movie)]['title'].values[0]))\n",
        "print(\"It's genres are:\")\n",
        "print(movies_df[movies_df.index == get_original_node(most_similar_movie)]['genres'].values)"
      ]
    },
    {
      "cell_type": "code",
      "execution_count": null,
      "metadata": {
        "id": "cDgcETk00Xxz"
      },
      "outputs": [],
      "source": []
    }
  ],
  "metadata": {
    "colab": {
      "include_colab_link": true,
      "provenance": []
    },
    "kernelspec": {
      "display_name": "Python 3",
      "name": "python3"
    },
    "language_info": {
      "codemirror_mode": {
        "name": "ipython",
        "version": 3
      },
      "file_extension": ".py",
      "mimetype": "text/x-python",
      "name": "python",
      "nbconvert_exporter": "python",
      "pygments_lexer": "ipython3",
      "version": "3.10.11"
    }
  },
  "nbformat": 4,
  "nbformat_minor": 0
}
